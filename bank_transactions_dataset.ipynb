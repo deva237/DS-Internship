{
  "nbformat": 4,
  "nbformat_minor": 0,
  "metadata": {
    "colab": {
      "provenance": [],
      "authorship_tag": "ABX9TyP82RVh/RJLuJLXYvO4Rz04",
      "include_colab_link": true
    },
    "kernelspec": {
      "name": "python3",
      "display_name": "Python 3"
    },
    "language_info": {
      "name": "python"
    }
  },
  "cells": [
    {
      "cell_type": "markdown",
      "metadata": {
        "id": "view-in-github",
        "colab_type": "text"
      },
      "source": [
        "<a href=\"https://colab.research.google.com/github/deva237/DS-Internship/blob/main/bank_transactions_dataset.ipynb\" target=\"_parent\"><img src=\"https://colab.research.google.com/assets/colab-badge.svg\" alt=\"Open In Colab\"/></a>"
      ]
    },
    {
      "cell_type": "markdown",
      "source": [
        "# **Data** **engineering**"
      ],
      "metadata": {
        "id": "_hQsKm1af3ln"
      }
    },
    {
      "cell_type": "code",
      "execution_count": null,
      "metadata": {
        "colab": {
          "base_uri": "https://localhost:8080/"
        },
        "id": "jXdLxidFZZcJ",
        "outputId": "201b0aee-f05f-447b-eaa7-dfec5858f296"
      },
      "outputs": [
        {
          "output_type": "stream",
          "name": "stdout",
          "text": [
            "  TransactionID CustomerID CustomerDOB CustGender CustLocation  \\\n",
            "0            T1   C5841053     10/1/94          F   JAMSHEDPUR   \n",
            "1            T2   C2142763      4/4/57          M      JHAJJAR   \n",
            "2            T3   C4417068    26/11/96          F       MUMBAI   \n",
            "3            T4   C5342380     14/9/73          F       MUMBAI   \n",
            "4            T5   C9031234     24/3/88          F  NAVI MUMBAI   \n",
            "\n",
            "   CustAccountBalance TransactionDate  TransactionTime  \\\n",
            "0            17819.05          2/8/16           143207   \n",
            "1             2270.69          2/8/16           141858   \n",
            "2            17874.44          2/8/16           142712   \n",
            "3           866503.21          2/8/16           142714   \n",
            "4             6714.43          2/8/16           181156   \n",
            "\n",
            "   TransactionAmount (INR)  \n",
            "0                     25.0  \n",
            "1                  27999.0  \n",
            "2                    459.0  \n",
            "3                   2060.0  \n",
            "4                   1762.5  \n"
          ]
        }
      ],
      "source": [
        "#1. Import the datset\n",
        "import pandas as pd\n",
        "df=pd.read_csv(\"bank_transactions.csv\")\n",
        "print(df.head(5))"
      ]
    },
    {
      "cell_type": "code",
      "source": [
        "print(df.isnull().sum())\n"
      ],
      "metadata": {
        "colab": {
          "base_uri": "https://localhost:8080/"
        },
        "id": "-wRLdwavfHIm",
        "outputId": "0645c266-75fa-462e-f011-70e7e966ebfe"
      },
      "execution_count": null,
      "outputs": [
        {
          "output_type": "stream",
          "name": "stdout",
          "text": [
            "TransactionID                 0\n",
            "CustomerID                    0\n",
            "CustomerDOB                3397\n",
            "CustGender                 1100\n",
            "CustLocation                151\n",
            "CustAccountBalance         2369\n",
            "TransactionDate               0\n",
            "TransactionTime               0\n",
            "TransactionAmount (INR)       0\n",
            "dtype: int64\n"
          ]
        }
      ]
    },
    {
      "source": [
        "#2. dealing with missing value\n",
        "\n",
        "# Convert 'CustomerDOB' to datetime objects if it's not already\n",
        "# df['CustomerDOB'] = pd.to_datetime(df['CustomerDOB'], errors='coerce')\n",
        "\n",
        "# Fill missing dates with a suitable placeholder or strategy (e.g., most frequent date)\n",
        "# For demonstration, filling with the most frequent date:\n",
        "# df['CustomerDOB'].fillna(df['CustomerDOB'].mode()[0], inplace=True)\n",
        "\n",
        "# Handle other columns as needed. Note that mean might not be appropriate for all.\n",
        "# For example, for 'CustGender' and 'CustLocation', using mode might be more suitable:\n",
        "df['CustGender'].fillna(df['CustGender'].mode()[0], inplace=True)\n",
        "df['CustLocation'].fillna(df['CustLocation'].mode()[0], inplace=True)\n",
        "\n",
        "# For 'CustAccountBalance', mean might be appropriate if it's a numeric column.\n",
        "df['CustAccountBalance'].fillna((df['CustAccountBalance'].mean()), inplace=True)\n",
        "print(df.head())"
      ],
      "cell_type": "code",
      "metadata": {
        "colab": {
          "base_uri": "https://localhost:8080/"
        },
        "id": "c-5q1YgfhERm",
        "outputId": "12df3090-9b6d-498f-9636-2d9f10107eef"
      },
      "execution_count": null,
      "outputs": [
        {
          "output_type": "stream",
          "name": "stdout",
          "text": [
            "  TransactionID CustomerID CustomerDOB CustGender CustLocation  \\\n",
            "0            T1   C5841053  1994-10-01          F   JAMSHEDPUR   \n",
            "1            T2   C2142763  2057-04-04          M      JHAJJAR   \n",
            "2            T3   C4417068  1996-11-26          F       MUMBAI   \n",
            "3            T4   C5342380  2073-09-14          F       MUMBAI   \n",
            "4            T5   C9031234  1988-03-24          F  NAVI MUMBAI   \n",
            "\n",
            "   CustAccountBalance TransactionDate  TransactionTime  \\\n",
            "0            17819.05          2/8/16           143207   \n",
            "1             2270.69          2/8/16           141858   \n",
            "2            17874.44          2/8/16           142712   \n",
            "3           866503.21          2/8/16           142714   \n",
            "4             6714.43          2/8/16           181156   \n",
            "\n",
            "   TransactionAmount (INR)  \n",
            "0                     25.0  \n",
            "1                  27999.0  \n",
            "2                    459.0  \n",
            "3                   2060.0  \n",
            "4                   1762.5  \n"
          ]
        }
      ]
    },
    {
      "cell_type": "code",
      "source": [
        "#Dealing with Outliers using Interquantile Range\n",
        "# Check the data type of the column and convert if necessary\n",
        "if df['CustAccountBalance'].dtype == object:\n",
        "    df['CustAccountBalance'] = pd.to_numeric(df['CustAccountBalance'], errors='coerce') # Convert to numeric, replace non-numeric with NaN\n",
        "\n",
        "# Fill NaN values if any were introduced during conversion\n",
        "df['CustAccountBalance'].fillna(df['CustAccountBalance'].mean(), inplace=True) # Replace NaN with mean\n",
        "\n",
        "print(df['CustAccountBalance'])\n",
        "Q1 = df['CustAccountBalance'].quantile(0.25)\n",
        "Q3 = df['CustAccountBalance'].quantile(0.75)\n",
        "\n",
        "IQR = Q3 - Q1\n",
        "print(IQR)\n",
        "\n",
        "upper = Q3 + 1.5*IQR\n",
        "lower = Q1 - 1.5*IQR\n",
        "\n",
        "print(upper)\n",
        "print(lower)\n",
        "\n",
        "out1=df[df['CustAccountBalance'] < lower].values\n",
        "out2=df[df['CustAccountBalance'] > upper].values\n",
        "\n",
        "df['CustAccountBalance'].replace(out1,lower,inplace=True)\n",
        "df['CustAccountBalance'].replace(out2,upper,inplace=True)\n",
        "\n",
        "print(df['CustAccountBalance'])"
      ],
      "metadata": {
        "colab": {
          "base_uri": "https://localhost:8080/"
        },
        "id": "r9bjVdouknfd",
        "outputId": "8ed84968-6977-4799-8ee3-180c803e4a7c"
      },
      "execution_count": null,
      "outputs": [
        {
          "output_type": "stream",
          "name": "stdout",
          "text": [
            "0           17819.05\n",
            "1            2270.69\n",
            "2           17874.44\n",
            "3          866503.21\n",
            "4            6714.43\n",
            "             ...    \n",
            "1048562      7635.19\n",
            "1048563     27311.42\n",
            "1048564    221757.06\n",
            "1048565     10117.87\n",
            "1048566     75734.42\n",
            "Name: CustAccountBalance, Length: 1048567, dtype: float64\n",
            "53466.14\n",
            "138405.55\n",
            "-75459.01\n",
            "0           17819.05\n",
            "1            2270.69\n",
            "2           17874.44\n",
            "3          866503.21\n",
            "4            6714.43\n",
            "             ...    \n",
            "1048562      7635.19\n",
            "1048563     27311.42\n",
            "1048564    221757.06\n",
            "1048565     10117.87\n",
            "1048566     75734.42\n",
            "Name: CustAccountBalance, Length: 1048567, dtype: float64\n"
          ]
        }
      ]
    },
    {
      "source": [
        "from matplotlib import pyplot as plt\n",
        "import seaborn as sns\n",
        "\n",
        "# Verify the actual column name\n",
        "print(df.columns)\n",
        "\n",
        "# Assuming the correct column name is 'TransactionAmount', use:\n",
        "sns.boxplot(df['CustAccountBalance'])\n",
        "plt.show()"
      ],
      "cell_type": "code",
      "metadata": {
        "colab": {
          "base_uri": "https://localhost:8080/",
          "height": 495
        },
        "id": "DdfjLylRkvy3",
        "outputId": "09bf527d-ec62-4834-d66c-e12e1be998ce"
      },
      "execution_count": null,
      "outputs": [
        {
          "output_type": "stream",
          "name": "stdout",
          "text": [
            "Index(['TransactionID', 'CustomerID', 'CustomerDOB', 'CustGender',\n",
            "       'CustLocation', 'CustAccountBalance', 'TransactionDate',\n",
            "       'TransactionTime', 'TransactionAmount (INR)'],\n",
            "      dtype='object')\n"
          ]
        },
        {
          "output_type": "display_data",
          "data": {
            "text/plain": [
              "<Figure size 640x480 with 1 Axes>"
            ],
            "image/png": "[encoded data removed]"
          },
          "metadata": {}
        }
      ]
    },
    {
      "source": [
        "\n",
        "# 4. Convert categorical variables into numeric using one-hot encoding\n",
        "df = pd.get_dummies(df, columns=['CustGender', 'CustLocation'], drop_first=True)\n",
        "\n",
        "# Verify the conversion\n",
        "print(df.head())"
      ],
      "cell_type": "code",
      "metadata": {
        "colab": {
          "base_uri": "https://localhost:8080/",
          "height": 228
        },
        "id": "_YjilYO4nQW4",
        "outputId": "df0fb3fa-dff3-4c41-d604-3306d211c47d"
      },
      "execution_count": null,
      "outputs": [
        {
          "output_type": "error",
          "ename": "NameError",
          "evalue": "name 'pd' is not defined",
          "traceback": [
            "\u001b[0;31m---------------------------------------------------------------------------\u001b[0m",
            "\u001b[0;31mNameError\u001b[0m                                 Traceback (most recent call last)",
            "\u001b[0;32m<ipython-input-1-319ea360eb34>\u001b[0m in \u001b[0;36m<cell line: 2>\u001b[0;34m()\u001b[0m\n\u001b[1;32m      1\u001b[0m \u001b[0;31m# 4. Convert categorical variables into numeric using one-hot encoding\u001b[0m\u001b[0;34m\u001b[0m\u001b[0;34m\u001b[0m\u001b[0m\n\u001b[0;32m----> 2\u001b[0;31m \u001b[0mdf\u001b[0m \u001b[0;34m=\u001b[0m \u001b[0mpd\u001b[0m\u001b[0;34m.\u001b[0m\u001b[0mget_dummies\u001b[0m\u001b[0;34m(\u001b[0m\u001b[0mdf\u001b[0m\u001b[0;34m,\u001b[0m \u001b[0mcolumns\u001b[0m\u001b[0;34m=\u001b[0m\u001b[0;34m[\u001b[0m\u001b[0;34m'CustGender'\u001b[0m\u001b[0;34m,\u001b[0m \u001b[0;34m'CustLocation'\u001b[0m\u001b[0;34m]\u001b[0m\u001b[0;34m,\u001b[0m \u001b[0mdrop_first\u001b[0m\u001b[0;34m=\u001b[0m\u001b[0;32mTrue\u001b[0m\u001b[0;34m)\u001b[0m\u001b[0;34m\u001b[0m\u001b[0;34m\u001b[0m\u001b[0m\n\u001b[0m\u001b[1;32m      3\u001b[0m \u001b[0;34m\u001b[0m\u001b[0m\n\u001b[1;32m      4\u001b[0m \u001b[0;31m# Verify the conversion\u001b[0m\u001b[0;34m\u001b[0m\u001b[0;34m\u001b[0m\u001b[0m\n\u001b[1;32m      5\u001b[0m \u001b[0mprint\u001b[0m\u001b[0;34m(\u001b[0m\u001b[0mdf\u001b[0m\u001b[0;34m.\u001b[0m\u001b[0mhead\u001b[0m\u001b[0;34m(\u001b[0m\u001b[0;34m)\u001b[0m\u001b[0;34m)\u001b[0m\u001b[0;34m\u001b[0m\u001b[0;34m\u001b[0m\u001b[0m\n",
            "\u001b[0;31mNameError\u001b[0m: name 'pd' is not defined"
          ]
        }
      ]
    },
    {
      "source": [
        "import pandas as pd  # Import the pandas library and alias it as 'pd'\n",
        "\n",
        "# 4. Convert categorical variables into numeric using one-hot encoding\n",
        "df = pd.get_dummies(df, columns=['CustGender', 'CustLocation'], drop_first=True)\n",
        "\n",
        "# Verify the conversion\n",
        "print(df.head())"
      ],
      "cell_type": "code",
      "metadata": {
        "colab": {
          "base_uri": "https://localhost:8080/",
          "height": 228
        },
        "id": "7Hh4dwB1o4QZ",
        "outputId": "bc42d46a-07bb-42bb-8c29-adb289885510"
      },
      "execution_count": null,
      "outputs": [
        {
          "output_type": "error",
          "ename": "NameError",
          "evalue": "name 'df' is not defined",
          "traceback": [
            "\u001b[0;31m---------------------------------------------------------------------------\u001b[0m",
            "\u001b[0;31mNameError\u001b[0m                                 Traceback (most recent call last)",
            "\u001b[0;32m<ipython-input-2-3c9c4c3c2012>\u001b[0m in \u001b[0;36m<cell line: 4>\u001b[0;34m()\u001b[0m\n\u001b[1;32m      2\u001b[0m \u001b[0;34m\u001b[0m\u001b[0m\n\u001b[1;32m      3\u001b[0m \u001b[0;31m# 4. Convert categorical variables into numeric using one-hot encoding\u001b[0m\u001b[0;34m\u001b[0m\u001b[0;34m\u001b[0m\u001b[0m\n\u001b[0;32m----> 4\u001b[0;31m \u001b[0mdf\u001b[0m \u001b[0;34m=\u001b[0m \u001b[0mpd\u001b[0m\u001b[0;34m.\u001b[0m\u001b[0mget_dummies\u001b[0m\u001b[0;34m(\u001b[0m\u001b[0mdf\u001b[0m\u001b[0;34m,\u001b[0m \u001b[0mcolumns\u001b[0m\u001b[0;34m=\u001b[0m\u001b[0;34m[\u001b[0m\u001b[0;34m'CustGender'\u001b[0m\u001b[0;34m,\u001b[0m \u001b[0;34m'CustLocation'\u001b[0m\u001b[0;34m]\u001b[0m\u001b[0;34m,\u001b[0m \u001b[0mdrop_first\u001b[0m\u001b[0;34m=\u001b[0m\u001b[0;32mTrue\u001b[0m\u001b[0;34m)\u001b[0m\u001b[0;34m\u001b[0m\u001b[0;34m\u001b[0m\u001b[0m\n\u001b[0m\u001b[1;32m      5\u001b[0m \u001b[0;34m\u001b[0m\u001b[0m\n\u001b[1;32m      6\u001b[0m \u001b[0;31m# Verify the conversion\u001b[0m\u001b[0;34m\u001b[0m\u001b[0;34m\u001b[0m\u001b[0m\n",
            "\u001b[0;31mNameError\u001b[0m: name 'df' is not defined"
          ]
        }
      ]
    },
    {
      "source": [
        "import pandas as pd  # Import the pandas library and alias it as 'pd'\n",
        "\n",
        "# Assuming your data is in a CSV file named 'your_data.csv'\n",
        "df = pd.read_csv('bank_transactions.csv')  # Load your data into a DataFrame named 'df'\n",
        "\n",
        "# 4. Convert categorical variables into numeric using one-hot encoding\n",
        "df = pd.get_dummies(df, columns=['CustGender', 'CustLocation'], drop_first=True)\n",
        "\n",
        "# Verify the conversion\n",
        "print(df.head())"
      ],
      "cell_type": "code",
      "metadata": {
        "id": "DjELV35VpCtq",
        "colab": {
          "base_uri": "https://localhost:8080/"
        },
        "outputId": "bb1fab0b-0e2c-4185-c25f-f22e43417875"
      },
      "execution_count": null,
      "outputs": [
        {
          "output_type": "stream",
          "name": "stdout",
          "text": [
            "  TransactionID CustomerID CustomerDOB  CustAccountBalance TransactionDate  \\\n",
            "0            T1   C5841053     10/1/94            17819.05          2/8/16   \n",
            "1            T2   C2142763      4/4/57             2270.69          2/8/16   \n",
            "2            T3   C4417068    26/11/96            17874.44          2/8/16   \n",
            "3            T4   C5342380     14/9/73           866503.21          2/8/16   \n",
            "4            T5   C9031234     24/3/88             6714.43          2/8/16   \n",
            "\n",
            "   TransactionTime  TransactionAmount (INR)  CustGender_M  \\\n",
            "0         143207.0                     25.0         False   \n",
            "1         141858.0                  27999.0          True   \n",
            "2         142712.0                    459.0         False   \n",
            "3         142714.0                   2060.0         False   \n",
            "4         181156.0                   1762.5         False   \n",
            "\n",
            "   CustLocation_(BENAKA MDTS) BANGALORE  CustLocation_(DT) HOSUR  ...  \\\n",
            "0                                 False                    False  ...   \n",
            "1                                 False                    False  ...   \n",
            "2                                 False                    False  ...   \n",
            "3                                 False                    False  ...   \n",
            "4                                 False                    False  ...   \n",
            "\n",
            "   CustLocation_ZADGAON  CustLocation_ZAHIRABAD  \\\n",
            "0                 False                   False   \n",
            "1                 False                   False   \n",
            "2                 False                   False   \n",
            "3                 False                   False   \n",
            "4                 False                   False   \n",
            "\n",
            "   CustLocation_ZAMEEN PALLAVARAM  CustLocation_ZION SCHOOL CHENNAI  \\\n",
            "0                           False                             False   \n",
            "1                           False                             False   \n",
            "2                           False                             False   \n",
            "3                           False                             False   \n",
            "4                           False                             False   \n",
            "\n",
            "   CustLocation_ZIRA  CustLocation_ZIRAKPUR  CustLocation_ZIRAKPUR ZIRAKPUR  \\\n",
            "0              False                  False                           False   \n",
            "1              False                  False                           False   \n",
            "2              False                  False                           False   \n",
            "3              False                  False                           False   \n",
            "4              False                  False                           False   \n",
            "\n",
            "   CustLocation_ZIRKPUR  CustLocation_ZONE WHITEFIELD BANGALORE  \\\n",
            "0                 False                                   False   \n",
            "1                 False                                   False   \n",
            "2                 False                                   False   \n",
            "3                 False                                   False   \n",
            "4                 False                                   False   \n",
            "\n",
            "   CustLocation_ZUARINAGAR  \n",
            "0                    False  \n",
            "1                    False  \n",
            "2                    False  \n",
            "3                    False  \n",
            "4                    False  \n",
            "\n",
            "[5 rows x 6676 columns]\n"
          ]
        }
      ]
    },
    {
      "cell_type": "code",
      "source": [],
      "metadata": {
        "id": "0XRcQYmEOg08"
      },
      "execution_count": null,
      "outputs": []
    },
    {
      "source": [
        "#6. Dealing with class imbalance using SMOTE\n",
        "from imblearn.over_sampling import SMOTE\n",
        "from sklearn.preprocessing import LabelEncoder\n",
        "import pandas as pd # Import pandas to work with DataFrames\n",
        "from sklearn.impute import SimpleImputer # Import SimpleImputer to handle NaNs\n",
        "\n",
        "# Load or create your DataFrame here\n",
        "# Example:\n",
        "df = pd.read_csv('bank_transactions.csv')  # Replace 'your_data.csv' with your file\n",
        "\n",
        "# Assuming 'df' is your DataFrame and 'target_variable' is the name of your target variable column\n",
        "X = df.drop('CustAccountBalance', axis=1)  # Replace 'target_variable' with the actual name\n",
        "y = df['CustAccountBalance']\n",
        "\n",
        "threshold = y.mean() # Example threshold, adjust as needed\n",
        "y = (y > threshold).astype(int) # 1 for high balance, 0 for low\n",
        "\n",
        "# Identify columns with string values\n",
        "string_columns = X.select_dtypes(include=['object']).columns\n",
        "\n",
        "# Handle string columns (choose one or more methods)\n",
        "# 1. Remove string columns:\n",
        "# X = X.drop(string_columns, axis=1)\n",
        "\n",
        "# 2. Encode string columns using LabelEncoder:\n",
        "for col in string_columns:\n",
        "    le = LabelEncoder()\n",
        "    X[col] = le.fit_transform(X[col])\n",
        "\n",
        "# 3. One-hot encode string columns:\n",
        "# X = pd.get_dummies(X, columns=string_columns)\n",
        "\n",
        "# Impute missing values in X\n",
        "imputer = SimpleImputer(strategy='mean') # Replace 'mean' with your preferred strategy\n",
        "X = imputer.fit_transform(X)\n",
        "\n",
        "# Apply SMOTE\n",
        "smote = SMOTE(random_state=42)\n",
        "X_sm, y_sm = smote.fit_resample(X, y)\n",
        "\n",
        "# Verify the balancing\n",
        "print(y_sm.value_counts())"
      ],
      "cell_type": "code",
      "metadata": {
        "colab": {
          "base_uri": "https://localhost:8080/"
        },
        "id": "yZaJKbTMShZ_",
        "outputId": "f3694420-eb7f-41f7-bc6f-3ee74ba17262"
      },
      "execution_count": null,
      "outputs": [
        {
          "output_type": "stream",
          "name": "stdout",
          "text": [
            "CustAccountBalance\n",
            "0    291464\n",
            "1    291464\n",
            "Name: count, dtype: int64\n"
          ]
        }
      ]
    },
    {
      "cell_type": "code",
      "source": [
        "\n",
        "# 7. Standardize the features\n",
        "from sklearn.preprocessing import StandardScaler\n",
        "scaler = StandardScaler()\n",
        "X_sm = scaler.fit_transform(X_sm)\n",
        "print(X_sm)"
      ],
      "metadata": {
        "colab": {
          "base_uri": "https://localhost:8080/"
        },
        "id": "Sukyeyl1Tbgc",
        "outputId": "b3090244-8940-4a70-b051-5b0e62829753"
      },
      "execution_count": null,
      "outputs": [
        {
          "output_type": "stream",
          "name": "stdout",
          "text": [
            "[[-1.73673295  0.34871971 -1.35580397 ... -0.64784939 -0.27677755\n",
            "  -0.27047032]\n",
            " [-0.61815724 -1.22842218  1.21496013 ... -0.64784939 -0.30376503\n",
            "   3.26074212]\n",
            " [ 0.50041847 -0.27423384  0.51434846 ... -0.64784939 -0.28668029\n",
            "  -0.21568566]\n",
            " ...\n",
            " [-1.3272613   1.50666469  0.79872905 ...  0.9121351  -0.66099438\n",
            "  -0.10294129]\n",
            " [-1.23090696 -1.45801942  0.06630404 ...  0.84792596  0.91445658\n",
            "   0.09232598]\n",
            " [ 0.40730807 -0.26932943  0.59252776 ... -0.80658599  0.90355776\n",
            "  -0.17806555]]\n"
          ]
        }
      ]
    },
    {
      "source": [
        "#PCA\n",
        "from sklearn.decomposition import PCA\n",
        "from sklearn.cluster import KMeans\n",
        "import pandas as pd  # Import pandas for handling DataFrames\n",
        "\n",
        "# Load the dataset into a DataFrame\n",
        "df = pd.read_csv('bank_transactions.csv')\n",
        "\n",
        "# Define the features\n",
        "# Make sure these column names match *exactly* with your CSV file\n",
        "features = ['CustAccountBalance', 'TransactionDate', 'TransactionTime',\n",
        "            'CustomerDOB', 'CustGender', 'CustLocation']\n",
        "\n",
        "# Separate the features (X)\n",
        "X = df[features]\n",
        "\n",
        "# Convert 'TransactionDate', 'TransactionTime', and 'CustomerDOB' to numerical values\n",
        "X['TransactionDate'] = pd.to_datetime(X['TransactionDate']).astype(int) / 10**9\n",
        "X['TransactionTime'] = pd.to_datetime(X['TransactionTime']).dt.hour  # Assuming time in hh:mm:ss format\n",
        "X['CustomerDOB'] = pd.to_datetime(X['CustomerDOB']).astype(int) / 10**9\n",
        "\n",
        "# Convert categorical features to numerical using one-hot encoding\n",
        "X = pd.get_dummies(X, drop_first=True)\n",
        "\n",
        "# Fill any remaining NaN values in the entire DataFrame 'X'\n",
        "X.fillna(X.mean(), inplace=True)  # Fill NaN with the mean of each column\n",
        "\n",
        "# Check if there are still any NaN values after preprocessing\n",
        "if X.isnull().any().any():\n",
        "    print(\"Warning: There are still NaN values in the data. Consider further preprocessing.\")\n",
        "    # You might want to investigate why these NaNs remain and apply more specific handling.\n",
        "\n",
        "# Apply PCA to reduce the dimensionality of the features\n",
        "pca = PCA(n_components=2)\n",
        "pca.fit(X)\n",
        "X_pca = pca.transform(X)\n",
        "\n",
        "print(X_pca)\n",
        "\n",
        "# Apply KMeans clustering\n",
        "kmeans = KMeans(n_clusters=2, random_state=0)\n",
        "kmeans.fit(X_pca)\n",
        "\n",
        "# Print the cluster labels\n",
        "print(kmeans.labels_)"
      ],
      "cell_type": "code",
      "metadata": {
        "colab": {
          "base_uri": "https://localhost:8080/"
        },
        "id": "CIOfGUz4Z2Vs",
        "outputId": "79cf6907-9ff1-4a5b-a0ab-3cf0e5a36039"
      },
      "execution_count": null,
      "outputs": [
        {
          "output_type": "stream",
          "name": "stderr",
          "text": [
            "<ipython-input-1-e439cfb8ebec>:17: UserWarning: Could not infer format, so each element will be parsed individually, falling back to `dateutil`. To ensure parsing is consistent and as-expected, please specify a format.\n",
            "  X['TransactionDate'] = pd.to_datetime(X['TransactionDate']).astype(int) / 10**9\n",
            "<ipython-input-1-e439cfb8ebec>:17: SettingWithCopyWarning: \n",
            "A value is trying to be set on a copy of a slice from a DataFrame.\n",
            "Try using .loc[row_indexer,col_indexer] = value instead\n",
            "\n",
            "See the caveats in the documentation: https://pandas.pydata.org/pandas-docs/stable/user_guide/indexing.html#returning-a-view-versus-a-copy\n",
            "  X['TransactionDate'] = pd.to_datetime(X['TransactionDate']).astype(int) / 10**9\n",
            "<ipython-input-1-e439cfb8ebec>:18: SettingWithCopyWarning: \n",
            "A value is trying to be set on a copy of a slice from a DataFrame.\n",
            "Try using .loc[row_indexer,col_indexer] = value instead\n",
            "\n",
            "See the caveats in the documentation: https://pandas.pydata.org/pandas-docs/stable/user_guide/indexing.html#returning-a-view-versus-a-copy\n",
            "  X['TransactionTime'] = pd.to_datetime(X['TransactionTime']).dt.hour  # Assuming time in hh:mm:ss format\n",
            "<ipython-input-1-e439cfb8ebec>:19: UserWarning: Could not infer format, so each element will be parsed individually, falling back to `dateutil`. To ensure parsing is consistent and as-expected, please specify a format.\n",
            "  X['CustomerDOB'] = pd.to_datetime(X['CustomerDOB']).astype(int) / 10**9\n",
            "<ipython-input-1-e439cfb8ebec>:19: SettingWithCopyWarning: \n",
            "A value is trying to be set on a copy of a slice from a DataFrame.\n",
            "Try using .loc[row_indexer,col_indexer] = value instead\n",
            "\n",
            "See the caveats in the documentation: https://pandas.pydata.org/pandas-docs/stable/user_guide/indexing.html#returning-a-view-versus-a-copy\n",
            "  X['CustomerDOB'] = pd.to_datetime(X['CustomerDOB']).astype(int) / 10**9\n"
          ]
        }
      ]
    },
    {
      "source": [
        "#Feature Selection\n",
        "\n",
        "from sklearn.ensemble import ExtraTreesRegressor # Use Regressor for continuous target\n",
        "import matplotlib.pyplot as plt\n",
        "import pandas as pd\n",
        "from sklearn.preprocessing import LabelEncoder\n",
        "\n",
        "# Load the dataset into a DataFrame (if not already loaded)\n",
        "df = pd.read_csv('bank_transactions.csv')\n",
        "\n",
        "# Define the features\n",
        "features = ['CustAccountBalance', 'TransactionDate', 'TransactionTime',\n",
        "            'CustomerDOB', 'CustGender', 'CustLocation']\n",
        "\n",
        "# Separate the features (X)\n",
        "X = df[features]\n",
        "\n",
        "model = ExtraTreesRegressor() # Change to ExtraTreesRegressor\n",
        "\n",
        "# Assuming X contains categorical features, encode them using LabelEncoder\n",
        "le = LabelEncoder()\n",
        "X_encoded = X.apply(le.fit_transform)\n",
        "\n",
        "# Define your target variable 'Y'\n",
        "Y = df['CustAccountBalance']\n",
        "\n",
        "# Handle missing values in the target variable 'Y' (if needed)\n",
        "Y = Y.fillna(Y.mean())\n",
        "\n",
        "model.fit(X_encoded,Y)\n",
        "print(model.feature_importances_)\n",
        "\n",
        "feat_importance = pd.Series(model.feature_importances_, index=X_encoded.columns)\n",
        "feat_importance.nlargest(4).plot(kind='pie', autopct='%1.1f%%')\n",
        "plt.show()"
      ],
      "cell_type": "code",
      "metadata": {
        "colab": {
          "base_uri": "https://localhost:8080/",
          "height": 423
        },
        "id": "lJ4rNe0Fbjp9",
        "outputId": "96727062-801e-4235-b7e9-2a19841c28ec"
      },
      "execution_count": null,
      "outputs": [
        {
          "output_type": "stream",
          "name": "stdout",
          "text": [
            "[0.92572754 0.00758635 0.01122779 0.02787425 0.00291974 0.02466433]\n"
          ]
        },
        {
          "output_type": "display_data",
          "data": {
            "text/plain": [
              "<Figure size 640x480 with 1 Axes>"
            ],
            "image/png": "[encoded data removed]"
          },
          "metadata": {}
        }
      ]
    },
    {
      "cell_type": "markdown",
      "source": [
        "## **ML** **CLASSIFICATION**"
      ],
      "metadata": {
        "id": "ZnfLdtwecEC0"
      }
    },
    {
      "cell_type": "code",
      "source": [
        "#4. Decision Tree\n",
        "\n",
        "from sklearn import tree\n",
        "from sklearn.metrics import mean_squared_error # Use an appropriate metric for regression\n",
        "from sklearn.model_selection import train_test_split\n",
        "import pandas as pd\n",
        "from sklearn.preprocessing import LabelEncoder\n",
        "\n",
        "# Load the dataset into a DataFrame (if not already loaded)\n",
        "df = pd.read_csv('bank_transactions.csv')\n",
        "\n",
        "# Define the features\n",
        "features = ['CustAccountBalance', 'TransactionDate', 'TransactionTime',\n",
        "            'CustomerDOB', 'CustGender', 'CustLocation']\n",
        "\n",
        "# Separate the features (X)\n",
        "X = df[features]\n",
        "\n",
        "model = ExtraTreesRegressor() # Change to ExtraTreesRegressor\n",
        "\n",
        "# Assuming X contains categorical features, encode them using LabelEncoder\n",
        "le = LabelEncoder()\n",
        "X_encoded = X.apply(le.fit_transform)\n",
        "# Define your target variable 'Y'\n",
        "Y = df['CustAccountBalance']\n",
        "\n",
        "# Handle missing values in the target variable 'Y' (if needed)\n",
        "Y = Y.fillna(Y.mean())\n",
        "\n",
        "# Use DecisionTreeRegressor for continuous target\n",
        "dt = tree.DecisionTreeRegressor()\n",
        "\n",
        "X_train,X_test,y_train,y_test=train_test_split(X_encoded,Y,random_state=0,test_size=0.3)\n",
        "\n",
        "train=dt.fit(X_train,y_train)\n",
        "\n",
        "y_pred=dt.predict(X_test)\n",
        "\n",
        "# Evaluate using a regression metric (e.g., mean squared error)\n",
        "print(mean_squared_error(y_test,y_pred))"
      ],
      "metadata": {
        "colab": {
          "base_uri": "https://localhost:8080/"
        },
        "id": "T63C50PTlIaf",
        "outputId": "39dad496-274e-4d81-dce3-838d7bec08dd"
      },
      "execution_count": null,
      "outputs": [
        {
          "output_type": "stream",
          "name": "stdout",
          "text": [
            "24597376.760520563\n"
          ]
        }
      ]
    },
    {
      "cell_type": "markdown",
      "source": [
        "# **DATA** **VISUALIZATION**"
      ],
      "metadata": {
        "id": "6DIztBEMp0r8"
      }
    },
    {
      "cell_type": "code",
      "source": [
        "import pandas as pd              #pd is an Alias\n",
        "from matplotlib import pyplot as plt\n",
        "import seaborn as sns\n",
        "\n",
        "\n",
        "df=pd.read_csv(\"bank_transactions.csv\")\n",
        "\n",
        "#Preparing X and Y\n",
        "\n",
        "X = df.drop('CustomerID', axis=1)\n",
        "X = X.drop('CustAccountBalance', axis=1)\n",
        "Y = df['CustAccountBalance']"
      ],
      "metadata": {
        "id": "3JbvJhq1p5x4"
      },
      "execution_count": null,
      "outputs": []
    },
    {
      "cell_type": "code",
      "source": [
        "import pandas as pd\n",
        "import seaborn as sns\n",
        "import matplotlib.pyplot as plt\n",
        "\n",
        "# Load the bank transactions dataset into a DataFrame\n",
        "df = pd.read_csv('bank_transactions.csv')\n",
        "\n",
        "# Print columns to verify names and presence\n",
        "print(\"Columns in DataFrame:\")\n",
        "print(df.columns)\n",
        "\n",
        "# Plotting the bar plot using seaborn\n",
        "plt.figure(figsize=(10, 6))  # Optional: Adjust figure size\n",
        "sns.barplot(x='TransactionTime', y='CustAccountBalance', data=df, ci=None)  # ci=None disables error bars\n",
        "plt.title('Average Transaction Amount by Transaction Type')\n",
        "plt.xlabel('Transaction Type')\n",
        "plt.ylabel('Average Transaction Amount (INR)')\n",
        "plt.grid(axis='y')  # Optional: Add horizontal grid lines\n",
        "plt.xticks(rotation=45)  # Rotate x-axis labels for better readability\n",
        "plt.tight_layout()  # Optional: Adjust layout to prevent clipping of labels\n",
        "plt.show()\n"
      ],
      "metadata": {
        "colab": {
          "base_uri": "https://localhost:8080/",
          "height": 627
        },
        "id": "v2ivXJ15wFaW",
        "outputId": "554f416f-322e-4637-ca1b-082216d86117"
      },
      "execution_count": null,
      "outputs": [
        {
          "output_type": "stream",
          "name": "stdout",
          "text": [
            "Columns in DataFrame:\n",
            "Index(['TransactionID', 'CustomerID', 'CustomerDOB', 'CustGender',\n",
            "       'CustLocation', 'CustAccountBalance', 'TransactionDate',\n",
            "       'TransactionTime', 'TransactionAmount '],\n",
            "      dtype='object')\n"
          ]
        },
        {
          "output_type": "stream",
          "name": "stderr",
          "text": [
            "<ipython-input-18-c64ae0773eaf>:14: FutureWarning: \n",
            "\n",
            "The `ci` parameter is deprecated. Use `errorbar=None` for the same effect.\n",
            "\n",
            "  sns.barplot(x='TransactionTime', y='CustAccountBalance', data=df, ci=None)  # ci=None disables error bars\n"
          ]
        },
        {
          "output_type": "display_data",
          "data": {
            "text/plain": [
              "<Figure size 1000x600 with 1 Axes>"
            ],
            "image/png": "[encoded data removed]"
          },
          "metadata": {}
        }
      ]
    },
    {
      "cell_type": "code",
      "source": [
        "sns.boxplot(x='CustAccountBalance', data = df) #if x horizontal and if y vertical\n",
        "plt.title(\"Box plot showing the distribution of Account Balance\")\n",
        "plt.show()"
      ],
      "metadata": {
        "colab": {
          "base_uri": "https://localhost:8080/",
          "height": 472
        },
        "id": "TWuooIVcyHhU",
        "outputId": "f6a27803-aab4-4cd3-f216-4b44828f8f26"
      },
      "execution_count": null,
      "outputs": [
        {
          "output_type": "display_data",
          "data": {
            "text/plain": [
              "<Figure size 640x480 with 1 Axes>"
            ],
            "image/png": "[encoded data removed]"
          },
          "metadata": {}
        }
      ]
    },
    {
      "cell_type": "code",
      "source": [
        "numeric_df = df.select_dtypes(include=['number']) # Select only numeric columns for correlation calculation\n",
        "sns.heatmap(numeric_df.corr())\n",
        "plt.show()"
      ],
      "metadata": {
        "colab": {
          "base_uri": "https://localhost:8080/",
          "height": 435
        },
        "id": "9i0W0JMV2shE",
        "outputId": "db373bbe-70ea-47e1-fa0c-8c56186be81b"
      },
      "execution_count": null,
      "outputs": [
        {
          "output_type": "display_data",
          "data": {
            "text/plain": [
              "<Figure size 640x480 with 2 Axes>"
            ],
            "image/png": "[encoded data removed]"
          },
          "metadata": {}
        }
      ]
    },
    {
      "cell_type": "code",
      "source": [
        "#Count Plot s similar to a bar plot except that we only pass the X-axis and Y-axis represents explicitly counting the number of occurrences. Each bar represents count for each category of species.\n",
        "sns.countplot(x='CustAccountBalance', data = df)\n",
        "plt.title(\"Count Plot for Balance\")\n",
        "plt.show()"
      ],
      "metadata": {
        "colab": {
          "base_uri": "https://localhost:8080/",
          "height": 472
        },
        "id": "YXEVaobM20iZ",
        "outputId": "daf824b4-9443-4325-ed62-44ed79228211"
      },
      "execution_count": null,
      "outputs": [
        {
          "output_type": "display_data",
          "data": {
            "text/plain": [
              "<Figure size 640x480 with 1 Axes>"
            ],
            "image/png": "[encoded data removed]"
          },
          "metadata": {}
        }
      ]
    },
    {
      "cell_type": "code",
      "source": [],
      "metadata": {
        "id": "_qasJE6a25rT"
      },
      "execution_count": null,
      "outputs": []
    }
  ]
}