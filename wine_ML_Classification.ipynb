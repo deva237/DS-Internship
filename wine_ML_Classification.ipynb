{
  "nbformat": 4,
  "nbformat_minor": 0,
  "metadata": {
    "colab": {
      "provenance": [],
      "authorship_tag": "ABX9TyO1ABRICpjvFmCpWUy87Qks",
      "include_colab_link": true
    },
    "kernelspec": {
      "name": "python3",
      "display_name": "Python 3"
    },
    "language_info": {
      "name": "python"
    }
  },
  "cells": [
    {
      "cell_type": "markdown",
      "metadata": {
        "id": "view-in-github",
        "colab_type": "text"
      },
      "source": [
        "<a href=\"https://colab.research.google.com/github/deva237/DS-Internship/blob/main/wine_ML_Classification.ipynb\" target=\"_parent\"><img src=\"https://colab.research.google.com/assets/colab-badge.svg\" alt=\"Open In Colab\"/></a>"
      ]
    },
    {
      "cell_type": "code",
      "source": [
        "#1. logistic Regression\n",
        "\n",
        "import pandas as pd\n",
        "from sklearn.linear_model import LogisticRegression\n",
        "from sklearn.model_selection import train_test_split\n",
        "from sklearn.metrics import accuracy_score\n",
        "from sklearn.metrics import classification_report\n",
        "from sklearn.metrics import confusion_matrix\n",
        "from sklearn.impute import SimpleImputer # Import SimpleImputer to handle missing values\n",
        "\n",
        "logr=LogisticRegression()\n",
        "\n",
        "df=pd.read_csv(\"wine.csv\")\n",
        "\n",
        "x = df.drop('type', axis=1)\n",
        "x = x.drop('quality', axis=1)\n",
        "y = df['quality']\n",
        "\n",
        "X_train, X_test, y_train, y_test = train_test_split(x,y,random_state=1,test_size=0.3)\n",
        "\n",
        "# Impute missing values using the mean strategy\n",
        "imputer = SimpleImputer(strategy='mean')\n",
        "X_train = imputer.fit_transform(X_train)\n",
        "X_test = imputer.transform(X_test) # Use the same imputer fitted on training data\n",
        "\n",
        "print(X_train)\n",
        "print(X_test)\n",
        "print(y_train)\n",
        "print(y_test)\n",
        "\n",
        "logr.fit(X_train,y_train)\n",
        "\n",
        "y_pred=logr.predict(X_test)\n",
        "\n",
        "# print(train.coef_)\n",
        "# print(train.intercept_)\n",
        "\n",
        "print(accuracy_score(y_test,y_pred))\n",
        "print(classification_report(y_test,y_pred))\n",
        "print(confusion_matrix(y_test,y_pred))"
      ],
      "metadata": {
        "colab": {
          "base_uri": "https://localhost:8080/"
        },
        "id": "MNIOJuttE_5y",
        "outputId": "928d75b7-d5da-414f-fe74-9d94c5e76958"
      },
      "execution_count": 6,
      "outputs": [
        {
          "output_type": "stream",
          "name": "stdout",
          "text": [
            "[[ 6.2   0.28  0.33 ...  3.24  0.5  12.1 ]\n",
            " [ 7.4   0.25  0.37 ...  3.    0.44  9.1 ]\n",
            " [ 6.7   0.27  0.25 ...  3.22  0.43  9.3 ]\n",
            " ...\n",
            " [ 6.1   0.22  0.25 ...  3.21  0.4  10.7 ]\n",
            " [ 7.2   0.23  0.38 ...  3.09  0.44  9.  ]\n",
            " [10.    0.31  0.47 ...  3.36  0.8  10.5 ]]\n",
            "[[ 6.3   0.24  0.29 ...  3.17  0.38 10.6 ]\n",
            " [ 5.4   0.42  0.27 ...  3.78  0.64 12.3 ]\n",
            " [ 6.9   0.29  0.41 ...  3.12  0.51  9.6 ]\n",
            " ...\n",
            " [12.1   0.4   0.52 ...  3.03  0.66 10.2 ]\n",
            " [ 7.4   0.16  0.27 ...  2.9   0.43  8.7 ]\n",
            " [ 5.8   0.23  0.27 ...  3.38  0.31  9.4 ]]\n",
            "863     6\n",
            "104     5\n",
            "1764    5\n",
            "1691    7\n",
            "1344    8\n",
            "       ..\n",
            "905     4\n",
            "5192    6\n",
            "3980    5\n",
            "235     6\n",
            "5157    7\n",
            "Name: quality, Length: 4547, dtype: int64\n",
            "3772    6\n",
            "6009    7\n",
            "3464    5\n",
            "1518    6\n",
            "3761    7\n",
            "       ..\n",
            "5044    5\n",
            "229     5\n",
            "5562    5\n",
            "4050    7\n",
            "1719    6\n",
            "Name: quality, Length: 1950, dtype: int64\n",
            "0.4723076923076923\n",
            "              precision    recall  f1-score   support\n",
            "\n",
            "           3       0.00      0.00      0.00         5\n",
            "           4       0.00      0.00      0.00        60\n",
            "           5       0.52      0.40      0.45       647\n",
            "           6       0.46      0.79      0.58       837\n",
            "           7       0.00      0.00      0.00       344\n",
            "           8       0.00      0.00      0.00        56\n",
            "           9       0.00      0.00      0.00         1\n",
            "\n",
            "    accuracy                           0.47      1950\n",
            "   macro avg       0.14      0.17      0.15      1950\n",
            "weighted avg       0.37      0.47      0.40      1950\n",
            "\n",
            "[[  0   0   2   3   0   0   0]\n",
            " [  0   0  22  37   1   0   0]\n",
            " [  0   0 259 387   1   0   0]\n",
            " [  0   0 175 662   0   0   0]\n",
            " [  0   0  36 308   0   0   0]\n",
            " [  0   0   5  51   0   0   0]\n",
            " [  0   0   0   1   0   0   0]]\n"
          ]
        },
        {
          "output_type": "stream",
          "name": "stderr",
          "text": [
            "/usr/local/lib/python3.10/dist-packages/sklearn/linear_model/_logistic.py:458: ConvergenceWarning: lbfgs failed to converge (status=1):\n",
            "STOP: TOTAL NO. of ITERATIONS REACHED LIMIT.\n",
            "\n",
            "Increase the number of iterations (max_iter) or scale the data as shown in:\n",
            "    https://scikit-learn.org/stable/modules/preprocessing.html\n",
            "Please also refer to the documentation for alternative solver options:\n",
            "    https://scikit-learn.org/stable/modules/linear_model.html#logistic-regression\n",
            "  n_iter_i = _check_optimize_result(\n",
            "/usr/local/lib/python3.10/dist-packages/sklearn/metrics/_classification.py:1344: UndefinedMetricWarning: Precision and F-score are ill-defined and being set to 0.0 in labels with no predicted samples. Use `zero_division` parameter to control this behavior.\n",
            "  _warn_prf(average, modifier, msg_start, len(result))\n",
            "/usr/local/lib/python3.10/dist-packages/sklearn/metrics/_classification.py:1344: UndefinedMetricWarning: Precision and F-score are ill-defined and being set to 0.0 in labels with no predicted samples. Use `zero_division` parameter to control this behavior.\n",
            "  _warn_prf(average, modifier, msg_start, len(result))\n",
            "/usr/local/lib/python3.10/dist-packages/sklearn/metrics/_classification.py:1344: UndefinedMetricWarning: Precision and F-score are ill-defined and being set to 0.0 in labels with no predicted samples. Use `zero_division` parameter to control this behavior.\n",
            "  _warn_prf(average, modifier, msg_start, len(result))\n"
          ]
        }
      ]
    },
    {
      "cell_type": "code",
      "source": [
        "#2 naive\n",
        "import pandas as pd\n",
        "from sklearn.naive_bayes import GaussianNB\n",
        "from sklearn.model_selection import train_test_split\n",
        "from sklearn.metrics import accuracy_score\n",
        "from sklearn.impute import SimpleImputer\n",
        "\n",
        "# Read the dataset\n",
        "df = pd.read_csv(\"wine.csv\")\n",
        "\n",
        "# Prepare the feature and target variables\n",
        "x = df.drop(['type', 'quality'], axis=1)\n",
        "y = df['Embarked']\n",
        "\n",
        "# One-hot encode categorical variables if necessary\n",
        "x = pd.get_dummies(x)\n",
        "\n",
        "# Handle missing values by imputing with the mean\n",
        "imputer = SimpleImputer(strategy='mean')\n",
        "x = imputer.fit_transform(x)\n",
        "\n",
        "# Split the data into training and testing sets\n",
        "X_train, X_test, y_train, y_test = train_test_split(x, y, random_state=0, test_size=0.4)\n",
        "\n",
        "# Initialize the Gaussian Naive Bayes classifier\n",
        "nb = GaussianNB()\n",
        "\n",
        "# Train the model\n",
        "nb.fit(X_train, y_train)\n",
        "\n",
        "# Make predictions on the test set\n",
        "y_pred1 = nb.predict(X_test)\n",
        "\n",
        "# Print the accuracy score\n",
        "print(\"Naive Bayes: \", accuracy_score(y_test, y_pred1))"
      ],
      "metadata": {
        "colab": {
          "base_uri": "https://localhost:8080/"
        },
        "id": "77KVlYGvFCGh",
        "outputId": "438d69fb-8715-4eb4-8e3e-8d0397cad285"
      },
      "execution_count": 7,
      "outputs": [
        {
          "output_type": "stream",
          "name": "stdout",
          "text": [
            "Naive Bayes:  0.44055405925355906\n"
          ]
        }
      ]
    },
    {
      "cell_type": "code",
      "source": [
        "# 3. KNN\n",
        "from pandas import read_csv\n",
        "import pandas as pd\n",
        "from sklearn.model_selection import train_test_split\n",
        "from sklearn.neighbors import KNeighborsClassifier\n",
        "from sklearn.metrics import accuracy_score\n",
        "from sklearn.impute import SimpleImputer\n",
        "\n",
        "# Read the dataset\n",
        "df = pd.read_csv(\"wine.csv\")\n",
        "\n",
        "# Prepare the feature and target variables\n",
        "x = df.drop(['type', 'quality'], axis=1)\n",
        "y = df['quality']\n",
        "\n",
        "# One-hot encode categorical variables if necessary\n",
        "x = pd.get_dummies(x)\n",
        "\n",
        "# Handle missing values by imputing with the mean\n",
        "imputer = SimpleImputer(strategy='mean')\n",
        "x = imputer.fit_transform(x)\n",
        "\n",
        "knn=KNeighborsClassifier(n_neighbors=5)\n",
        "\n",
        "X_train,X_test,y_train,y_test=train_test_split(x,y,random_state=0)\n",
        "\n",
        "train=knn.fit(X_train,y_train)\n",
        "\n",
        "y_pred=knn.predict(X_test)\n",
        "\n",
        "print(accuracy_score(y_test,y_pred))"
      ],
      "metadata": {
        "colab": {
          "base_uri": "https://localhost:8080/"
        },
        "id": "o713U41jH_ii",
        "outputId": "b38965c0-0535-4d1d-a65f-cbee5e42a4c5"
      },
      "execution_count": 13,
      "outputs": [
        {
          "output_type": "stream",
          "name": "stdout",
          "text": [
            "0.4633846153846154\n"
          ]
        }
      ]
    },
    {
      "cell_type": "code",
      "source": [
        "#4. Decision Tree\n",
        "\n",
        "from sklearn import tree\n",
        "from sklearn.metrics import accuracy_score\n",
        "from sklearn.model_selection import train_test_split\n",
        "\n",
        "dt=tree.DecisionTreeClassifier()\n",
        "\n",
        "X_train,X_test,y_train,y_test=train_test_split(x,y,random_state=0,test_size=0.3)\n",
        "\n",
        "train=dt.fit(X_train,y_train)\n",
        "\n",
        "y_pred=dt.predict(X_test)\n",
        "\n",
        "print(accuracy_score(y_test,y_pred))"
      ],
      "metadata": {
        "colab": {
          "base_uri": "https://localhost:8080/"
        },
        "id": "9gGxsd8CFyQM",
        "outputId": "68b13c56-7fcf-4736-cd0a-480a5f16f143"
      },
      "execution_count": 9,
      "outputs": [
        {
          "output_type": "stream",
          "name": "stdout",
          "text": [
            "0.6025641025641025\n"
          ]
        }
      ]
    },
    {
      "cell_type": "code",
      "source": [
        "# 5. Random Forest\n",
        "\n",
        "from sklearn.model_selection import train_test_split\n",
        "from sklearn.metrics import accuracy_score\n",
        "from sklearn.ensemble import RandomForestClassifier\n",
        "\n",
        "rf=RandomForestClassifier()\n",
        "\n",
        "X_train,X_test,y_train,y_test=train_test_split(x,y,random_state=0,test_size=0.3)\n",
        "\n",
        "train=rf.fit(X_train,y_train)\n",
        "\n",
        "y_pred=rf.predict(X_test)\n",
        "\n",
        "print(accuracy_score(y_test,y_pred))"
      ],
      "metadata": {
        "colab": {
          "base_uri": "https://localhost:8080/"
        },
        "id": "KRGgH48bF3dM",
        "outputId": "ad5e5615-0c69-419f-9010-d86828c3d79c"
      },
      "execution_count": 10,
      "outputs": [
        {
          "output_type": "stream",
          "name": "stdout",
          "text": [
            "0.6743589743589744\n"
          ]
        }
      ]
    },
    {
      "cell_type": "code",
      "source": [
        "# 6. Gradient Boosting\n",
        "import pandas as pd\n",
        "from sklearn.linear_model import LogisticRegression\n",
        "from sklearn.model_selection import train_test_split\n",
        "from sklearn.metrics import accuracy_score\n",
        "from sklearn.impute import SimpleImputer\n",
        "\n",
        "# Initialize the Logistic Regression model\n",
        "logr = LogisticRegression(max_iter=200)\n",
        "\n",
        "# Read the dataset\n",
        "df = pd.read_csv(\"wine.csv\")\n",
        "\n",
        "# Prepare the feature and target variables\n",
        "x = df.drop(['type', 'quality'], axis=1)\n",
        "y = df['quality']\n",
        "\n",
        "# One-hot encode categorical variables if necessary\n",
        "x = pd.get_dummies(x)\n",
        "\n",
        "# Handle missing values by imputing with the mean\n",
        "imputer = SimpleImputer(strategy='mean')\n",
        "x = imputer.fit_transform(x)\n",
        "from sklearn.ensemble import GradientBoostingClassifier\n",
        "\n",
        "gbm=GradientBoostingClassifier(n_estimators=10)\n",
        "\n",
        "X_train,X_test,Y_train,Y_test=train_test_split(x,y,random_state=0,test_size=0.2)\n",
        "\n",
        "gbm.fit(X_train,Y_train)\n",
        "\n",
        "y_pred=gbm.predict(X_test)\n",
        "\n",
        "print(\"GBM: \",accuracy_score(Y_test,y_pred))"
      ],
      "metadata": {
        "colab": {
          "base_uri": "https://localhost:8080/"
        },
        "id": "vApTVB-VF7Ms",
        "outputId": "aa914ac5-f788-419f-ba6c-ca1d5be1e893"
      },
      "execution_count": 11,
      "outputs": [
        {
          "output_type": "stream",
          "name": "stdout",
          "text": [
            "GBM:  0.556923076923077\n"
          ]
        }
      ]
    },
    {
      "cell_type": "code",
      "source": [],
      "metadata": {
        "id": "WbGAvq8fGKts"
      },
      "execution_count": null,
      "outputs": []
    }
  ]
}