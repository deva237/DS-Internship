{
  "nbformat": 4,
  "nbformat_minor": 0,
  "metadata": {
    "colab": {
      "provenance": [],
      "authorship_tag": "ABX9TyNbSlf9Bi1wVWKT4eoco7QF",
      "include_colab_link": true
    },
    "kernelspec": {
      "name": "python3",
      "display_name": "Python 3"
    },
    "language_info": {
      "name": "python"
    }
  },
  "cells": [
    {
      "cell_type": "markdown",
      "metadata": {
        "id": "view-in-github",
        "colab_type": "text"
      },
      "source": [
        "<a href=\"https://colab.research.google.com/github/deva237/DS-Internship/blob/main/Titanic_Dataset.ipynb\" target=\"_parent\"><img src=\"https://colab.research.google.com/assets/colab-badge.svg\" alt=\"Open In Colab\"/></a>"
      ]
    },
    {
      "cell_type": "markdown",
      "source": [
        "# **ML** **CLASSIFICATION**"
      ],
      "metadata": {
        "id": "hWr3bay67raH"
      }
    },
    {
      "cell_type": "code",
      "execution_count": null,
      "metadata": {
        "colab": {
          "base_uri": "https://localhost:8080/"
        },
        "id": "KzgWYP53Evxj",
        "outputId": "23a7d0cd-22bc-4ecd-97ec-eef2b31cc902"
      },
      "outputs": [
        {
          "output_type": "stream",
          "name": "stdout",
          "text": [
            "Accuracy: 0.7619047619047619\n",
            "Classification Report:\n",
            "               precision    recall  f1-score   support\n",
            "\n",
            "           C       1.00      0.35      0.52        23\n",
            "           Q       0.00      0.00      0.00        15\n",
            "           S       0.75      1.00      0.85        88\n",
            "\n",
            "    accuracy                           0.76       126\n",
            "   macro avg       0.58      0.45      0.46       126\n",
            "weighted avg       0.70      0.76      0.69       126\n",
            "\n",
            "Confusion Matrix:\n",
            " [[ 8  0 15]\n",
            " [ 0  0 15]\n",
            " [ 0  0 88]]\n"
          ]
        },
        {
          "output_type": "stream",
          "name": "stderr",
          "text": [
            "/usr/local/lib/python3.10/dist-packages/sklearn/linear_model/_logistic.py:458: ConvergenceWarning: lbfgs failed to converge (status=1):\n",
            "STOP: TOTAL NO. of ITERATIONS REACHED LIMIT.\n",
            "\n",
            "Increase the number of iterations (max_iter) or scale the data as shown in:\n",
            "    https://scikit-learn.org/stable/modules/preprocessing.html\n",
            "Please also refer to the documentation for alternative solver options:\n",
            "    https://scikit-learn.org/stable/modules/linear_model.html#logistic-regression\n",
            "  n_iter_i = _check_optimize_result(\n",
            "/usr/local/lib/python3.10/dist-packages/sklearn/metrics/_classification.py:1344: UndefinedMetricWarning: Precision and F-score are ill-defined and being set to 0.0 in labels with no predicted samples. Use `zero_division` parameter to control this behavior.\n",
            "  _warn_prf(average, modifier, msg_start, len(result))\n",
            "/usr/local/lib/python3.10/dist-packages/sklearn/metrics/_classification.py:1344: UndefinedMetricWarning: Precision and F-score are ill-defined and being set to 0.0 in labels with no predicted samples. Use `zero_division` parameter to control this behavior.\n",
            "  _warn_prf(average, modifier, msg_start, len(result))\n",
            "/usr/local/lib/python3.10/dist-packages/sklearn/metrics/_classification.py:1344: UndefinedMetricWarning: Precision and F-score are ill-defined and being set to 0.0 in labels with no predicted samples. Use `zero_division` parameter to control this behavior.\n",
            "  _warn_prf(average, modifier, msg_start, len(result))\n"
          ]
        }
      ],
      "source": [
        "import pandas as pd\n",
        "from sklearn.linear_model import LogisticRegression\n",
        "from sklearn.model_selection import train_test_split\n",
        "from sklearn.metrics import accuracy_score, classification_report, confusion_matrix\n",
        "from sklearn.impute import SimpleImputer\n",
        "\n",
        "# Initialize the Logistic Regression model\n",
        "logr = LogisticRegression(max_iter=200)\n",
        "\n",
        "# Read the dataset\n",
        "df = pd.read_csv(\"tested.csv\")\n",
        "\n",
        "# Prepare the feature and target variables\n",
        "x = df.drop(['PassengerId', 'Embarked'], axis=1)\n",
        "y = df['Embarked']\n",
        "\n",
        "# One-hot encode categorical variables if necessary\n",
        "x = pd.get_dummies(x)\n",
        "\n",
        "# Handle missing values by imputing with the mean\n",
        "imputer = SimpleImputer(strategy='mean')\n",
        "x = imputer.fit_transform(x)\n",
        "\n",
        "# Split the data into training and testing sets\n",
        "X_train, X_test, y_train, y_test = train_test_split(x, y, random_state=1, test_size=0.3)\n",
        "\n",
        "# Train the logistic regression model\n",
        "logr.fit(X_train, y_train)\n",
        "\n",
        "# Make predictions on the test set\n",
        "y_pred = logr.predict(X_test)\n",
        "\n",
        "# Print evaluation metrics\n",
        "print(\"Accuracy:\", accuracy_score(y_test, y_pred))\n",
        "print(\"Classification Report:\\n\", classification_report(y_test, y_pred))\n",
        "print(\"Confusion Matrix:\\n\", confusion_matrix(y_test, y_pred))\n"
      ]
    },
    {
      "cell_type": "code",
      "source": [
        "#2 naive\n",
        "import pandas as pd\n",
        "from sklearn.naive_bayes import GaussianNB\n",
        "from sklearn.model_selection import train_test_split\n",
        "from sklearn.metrics import accuracy_score\n",
        "from sklearn.impute import SimpleImputer\n",
        "\n",
        "# Read the dataset\n",
        "df = pd.read_csv(\"tested.csv\")\n",
        "\n",
        "# Prepare the feature and target variables\n",
        "x = df.drop(['PassengerId', 'Embarked'], axis=1)\n",
        "y = df['Embarked']\n",
        "\n",
        "# One-hot encode categorical variables if necessary\n",
        "x = pd.get_dummies(x)\n",
        "\n",
        "# Handle missing values by imputing with the mean\n",
        "imputer = SimpleImputer(strategy='mean')\n",
        "x = imputer.fit_transform(x)\n",
        "\n",
        "# Split the data into training and testing sets\n",
        "X_train, X_test, y_train, y_test = train_test_split(x, y, random_state=0, test_size=0.4)\n",
        "\n",
        "# Initialize the Gaussian Naive Bayes classifier\n",
        "nb = GaussianNB()\n",
        "\n",
        "# Train the model\n",
        "nb.fit(X_train, y_train)\n",
        "\n",
        "# Make predictions on the test set\n",
        "y_pred1 = nb.predict(X_test)\n",
        "\n",
        "# Print the accuracy score\n",
        "print(\"Naive Bayes: \", accuracy_score(y_test, y_pred1))\n"
      ],
      "metadata": {
        "id": "DsuXSC3bPryN",
        "outputId": "f118649b-87e0-4ddf-dae4-b8cde57da04d",
        "colab": {
          "base_uri": "https://localhost:8080/"
        }
      },
      "execution_count": null,
      "outputs": [
        {
          "output_type": "stream",
          "name": "stdout",
          "text": [
            "Naive Bayes:  0.3630952380952381\n"
          ]
        }
      ]
    },
    {
      "cell_type": "code",
      "source": [
        "# 3. KNN\n",
        "from pandas import read_csv\n",
        "import pandas as pd\n",
        "from sklearn.model_selection import train_test_split\n",
        "from sklearn.neighbors import KNeighborsClassifier\n",
        "from sklearn.metrics import accuracy_score\n",
        "from sklearn.impute import SimpleImputer\n",
        "\n",
        "# Read the dataset\n",
        "df = pd.read_csv(\"tested.csv\")\n",
        "\n",
        "# Prepare the feature and target variables\n",
        "x = df.drop(['PassengerId', 'Embarked'], axis=1)\n",
        "y = df['Embarked']\n",
        "\n",
        "# One-hot encode categorical variables if necessary\n",
        "x = pd.get_dummies(x)\n",
        "\n",
        "# Handle missing values by imputing with the mean\n",
        "imputer = SimpleImputer(strategy='mean')\n",
        "x = imputer.fit_transform(x)\n",
        "\n",
        "knn=KNeighborsClassifier(n_neighbors=5)\n",
        "\n",
        "X_train,X_test,y_train,y_test=train_test_split(x,y,random_state=0)\n",
        "\n",
        "train=knn.fit(X_train,y_train)\n",
        "\n",
        "y_pred=knn.predict(X_test)\n",
        "\n",
        "print(accuracy_score(y_test,y_pred))"
      ],
      "metadata": {
        "colab": {
          "base_uri": "https://localhost:8080/"
        },
        "id": "iyeaSgBCI9RU",
        "outputId": "6b4f1679-09d2-4121-9f0c-ca4f8247cb88"
      },
      "execution_count": null,
      "outputs": [
        {
          "output_type": "stream",
          "name": "stdout",
          "text": [
            "0.7142857142857143\n"
          ]
        }
      ]
    },
    {
      "cell_type": "code",
      "source": [
        "#4. Decision Tree\n",
        "\n",
        "from sklearn import tree\n",
        "from sklearn.metrics import accuracy_score\n",
        "from sklearn.model_selection import train_test_split\n",
        "\n",
        "dt=tree.DecisionTreeClassifier()\n",
        "\n",
        "X_train,X_test,y_train,y_test=train_test_split(x,y,random_state=0,test_size=0.3)\n",
        "\n",
        "train=dt.fit(X_train,y_train)\n",
        "\n",
        "y_pred=dt.predict(X_test)\n",
        "\n",
        "print(accuracy_score(y_test,y_pred))"
      ],
      "metadata": {
        "colab": {
          "base_uri": "https://localhost:8080/"
        },
        "id": "YAevyQ3DkIZe",
        "outputId": "880b10ce-7482-485f-8316-82b7dcc8c63f"
      },
      "execution_count": null,
      "outputs": [
        {
          "output_type": "stream",
          "name": "stdout",
          "text": [
            "0.746031746031746\n"
          ]
        }
      ]
    },
    {
      "cell_type": "code",
      "source": [
        "# 5. Random Forest\n",
        "\n",
        "from sklearn.model_selection import train_test_split\n",
        "from sklearn.metrics import accuracy_score\n",
        "from sklearn.ensemble import RandomForestClassifier\n",
        "\n",
        "rf=RandomForestClassifier()\n",
        "\n",
        "X_train,X_test,y_train,y_test=train_test_split(x,y,random_state=0,test_size=0.3)\n",
        "\n",
        "train=rf.fit(X_train,y_train)\n",
        "\n",
        "y_pred=rf.predict(X_test)\n",
        "\n",
        "print(accuracy_score(y_test,y_pred))"
      ],
      "metadata": {
        "id": "OITKzy2skOtd",
        "outputId": "1e559eda-ad95-4320-8661-1d7bdb0eef2a",
        "colab": {
          "base_uri": "https://localhost:8080/"
        }
      },
      "execution_count": null,
      "outputs": [
        {
          "output_type": "stream",
          "name": "stdout",
          "text": [
            "0.6349206349206349\n"
          ]
        }
      ]
    },
    {
      "cell_type": "code",
      "source": [
        "# 6. Gradient Boosting\n",
        "import pandas as pd\n",
        "from sklearn.linear_model import LogisticRegression\n",
        "from sklearn.model_selection import train_test_split\n",
        "from sklearn.metrics import accuracy_score\n",
        "from sklearn.impute import SimpleImputer\n",
        "\n",
        "# Initialize the Logistic Regression model\n",
        "logr = LogisticRegression(max_iter=200)\n",
        "\n",
        "# Read the dataset\n",
        "df = pd.read_csv(\"tested.csv\")\n",
        "\n",
        "# Prepare the feature and target variables\n",
        "x = df.drop(['PassengerId', 'Embarked'], axis=1)\n",
        "y = df['Embarked']\n",
        "\n",
        "# One-hot encode categorical variables if necessary\n",
        "x = pd.get_dummies(x)\n",
        "\n",
        "# Handle missing values by imputing with the mean\n",
        "imputer = SimpleImputer(strategy='mean')\n",
        "x = imputer.fit_transform(x)\n",
        "from sklearn.ensemble import GradientBoostingClassifier\n",
        "\n",
        "gbm=GradientBoostingClassifier(n_estimators=10)\n",
        "\n",
        "X_train,X_test,Y_train,Y_test=train_test_split(x,y,random_state=0,test_size=0.2)\n",
        "\n",
        "gbm.fit(X_train,Y_train)\n",
        "\n",
        "y_pred=gbm.predict(X_test)\n",
        "\n",
        "print(\"GBM: \",accuracy_score(Y_test,y_pred))"
      ],
      "metadata": {
        "colab": {
          "base_uri": "https://localhost:8080/"
        },
        "id": "zXNetZj4KjhT",
        "outputId": "6daa46c7-de09-449f-ffaa-9fa445bc919d"
      },
      "execution_count": null,
      "outputs": [
        {
          "output_type": "stream",
          "name": "stdout",
          "text": [
            "GBM:  0.8452380952380952\n"
          ]
        }
      ]
    },
    {
      "cell_type": "markdown",
      "source": [
        "## **DATA** **ENGINEERING**"
      ],
      "metadata": {
        "id": "iMCUAf2XMgLY"
      }
    },
    {
      "cell_type": "code",
      "source": [
        "import pandas as pd\n",
        "df = pd.read_csv(\"tested.csv\")\n",
        "X = df.drop('PassengerId', axis=1)\n",
        "X = X.drop('Embarked', axis=1)\n",
        "Y = df['Embarked']\n",
        "print(X)\n",
        "print(Y)"
      ],
      "metadata": {
        "colab": {
          "base_uri": "https://localhost:8080/"
        },
        "id": "FVw1JEtjMmk_",
        "outputId": "127e6467-164e-4ae8-cc70-a49581b8c968"
      },
      "execution_count": null,
      "outputs": [
        {
          "output_type": "stream",
          "name": "stdout",
          "text": [
            "     Survived  Pclass                                          Name     Sex  \\\n",
            "0           0       3                              Kelly, Mr. James    male   \n",
            "1           1       3              Wilkes, Mrs. James (Ellen Needs)  female   \n",
            "2           0       2                     Myles, Mr. Thomas Francis    male   \n",
            "3           0       3                              Wirz, Mr. Albert    male   \n",
            "4           1       3  Hirvonen, Mrs. Alexander (Helga E Lindqvist)  female   \n",
            "..        ...     ...                                           ...     ...   \n",
            "413         0       3                            Spector, Mr. Woolf    male   \n",
            "414         1       1                  Oliva y Ocana, Dona. Fermina  female   \n",
            "415         0       3                  Saether, Mr. Simon Sivertsen    male   \n",
            "416         0       3                           Ware, Mr. Frederick    male   \n",
            "417         0       3                      Peter, Master. Michael J    male   \n",
            "\n",
            "      Age  SibSp  Parch              Ticket      Fare Cabin  \n",
            "0    34.5      0      0              330911    7.8292   NaN  \n",
            "1    47.0      1      0              363272    7.0000   NaN  \n",
            "2    62.0      0      0              240276    9.6875   NaN  \n",
            "3    27.0      0      0              315154    8.6625   NaN  \n",
            "4    22.0      1      1             3101298   12.2875   NaN  \n",
            "..    ...    ...    ...                 ...       ...   ...  \n",
            "413   NaN      0      0           A.5. 3236    8.0500   NaN  \n",
            "414  39.0      0      0            PC 17758  108.9000  C105  \n",
            "415  38.5      0      0  SOTON/O.Q. 3101262    7.2500   NaN  \n",
            "416   NaN      0      0              359309    8.0500   NaN  \n",
            "417   NaN      1      1                2668   22.3583   NaN  \n",
            "\n",
            "[418 rows x 10 columns]\n",
            "0      Q\n",
            "1      S\n",
            "2      Q\n",
            "3      S\n",
            "4      S\n",
            "      ..\n",
            "413    S\n",
            "414    C\n",
            "415    S\n",
            "416    S\n",
            "417    C\n",
            "Name: Embarked, Length: 418, dtype: object\n"
          ]
        }
      ]
    },
    {
      "source": [
        "from sklearn.feature_selection import SelectKBest\n",
        "from sklearn.feature_selection import chi2\n",
        "import pandas as pd\n",
        "from sklearn.linear_model import LogisticRegression\n",
        "from sklearn.model_selection import train_test_split\n",
        "from sklearn.metrics import accuracy_score\n",
        "from sklearn.impute import SimpleImputer\n",
        "from sklearn.preprocessing import LabelEncoder\n",
        "\n",
        "# Initialize the Logistic Regression model\n",
        "logr = LogisticRegression(max_iter=200)\n",
        "\n",
        "# Read the dataset\n",
        "df = pd.read_csv(\"tested.csv\")\n",
        "\n",
        "# Prepare the feature and target variables\n",
        "x = df.drop(['PassengerId', 'Embarked'], axis=1)\n",
        "y = df['Embarked']\n",
        "\n",
        "# One-hot encode categorical variables if necessary\n",
        "x = pd.get_dummies(x)\n",
        "\n",
        "# Handle missing values by imputing with the mean\n",
        "imputer = SimpleImputer(strategy='mean')\n",
        "x_imputed = imputer.fit_transform(x) # store result of imputation\n",
        "\n",
        "# Convert imputed NumPy array back to a DataFrame and re-assign column names\n",
        "x = pd.DataFrame(x_imputed, columns=x.columns)\n",
        "\n",
        "# Encode the target variable 'Embarked' to numerical values\n",
        "le = LabelEncoder()\n",
        "y = le.fit_transform(y)\n",
        "\n",
        "bestfeatures = SelectKBest(score_func=chi2, k='all')\n",
        "fit = bestfeatures.fit(x, y)  # Note: fitting with x and y (numerical target)\n",
        "dfscores = pd.DataFrame(fit.scores_)\n",
        "dfcolumns = pd.DataFrame(x.columns) # Now that x is a DataFrame again, this should work\n",
        "featuresScores = pd.concat([dfcolumns, dfscores], axis=1)\n",
        "featuresScores.columns = ['Specs', 'Score']\n",
        "\n",
        "print(featuresScores)"
      ],
      "cell_type": "code",
      "metadata": {
        "colab": {
          "base_uri": "https://localhost:8080/"
        },
        "id": "Tdf5Q_JYPpid",
        "outputId": "34cb295d-a133-4eeb-a354-d8f86f04599c"
      },
      "execution_count": null,
      "outputs": [
        {
          "output_type": "stream",
          "name": "stdout",
          "text": [
            "           Specs      Score\n",
            "0       Survived   4.446112\n",
            "1         Pclass  18.087531\n",
            "2            Age  58.308720\n",
            "3          SibSp   8.338599\n",
            "4          Parch  19.210552\n",
            "..           ...        ...\n",
            "860  Cabin_F G63   0.548148\n",
            "861     Cabin_F2   0.548148\n",
            "862    Cabin_F33   0.548148\n",
            "863     Cabin_F4   1.096296\n",
            "864     Cabin_G6   0.548148\n",
            "\n",
            "[865 rows x 2 columns]\n"
          ]
        }
      ]
    },
    {
      "source": [
        "#Feature Selection 2\n",
        "\n",
        "from sklearn.ensemble import ExtraTreesClassifier\n",
        "import matplotlib.pyplot as plt\n",
        "import pandas as pd # Import pandas for DataFrame handling\n",
        "from sklearn.preprocessing import LabelEncoder # Import LabelEncoder for encoding categorical variables\n",
        "\n",
        "model = ExtraTreesClassifier()\n",
        "\n",
        "# Assuming X contains categorical features, encode them using LabelEncoder\n",
        "le = LabelEncoder()\n",
        "X_encoded = X.apply(le.fit_transform) # Apply LabelEncoder to all columns in X\n",
        "\n",
        "model.fit(X_encoded,Y) # Fit the model with encoded features\n",
        "print(model.feature_importances_)\n",
        "\n",
        "feat_importance = pd.Series(model.feature_importances_, index=X_encoded.columns) # Use encoded column names\n",
        "feat_importance.nlargest(4).plot(kind='pie', autopct='%1.1f%%')\n",
        "#plot(kind='box')\n",
        "# plot(kind='area')\n",
        "# plot(kind='line', marker='o')\n",
        "plt.show()"
      ],
      "cell_type": "code",
      "metadata": {
        "colab": {
          "base_uri": "https://localhost:8080/",
          "height": 441
        },
        "id": "NS7hpY2lQNrE",
        "outputId": "8cd3dbef-10f1-4b30-9cd1-e9f4b1485a8e"
      },
      "execution_count": null,
      "outputs": [
        {
          "output_type": "stream",
          "name": "stdout",
          "text": [
            "[0.01765989 0.08693859 0.12148043 0.01864448 0.12400685 0.04490748\n",
            " 0.03754546 0.24259569 0.2359865  0.07023463]\n"
          ]
        },
        {
          "output_type": "display_data",
          "data": {
            "text/plain": [
              "<Figure size 640x480 with 1 Axes>"
            ],
            "image/png": "[encoded data removed]"
          },
          "metadata": {}
        }
      ]
    },
    {
      "cell_type": "code",
      "source": [
        "#Numerical to Categorical\n",
        "import pandas as pd\n",
        "from sklearn.model_selection import train_test_split\n",
        "\n",
        "# Load the dataset\n",
        "titanic_df = pd.read_csv('tested.csv')\n",
        "\n",
        "# Split the dataset into training and test sets\n",
        "train_df, test_df = train_test_split(titanic_df, test_size=0.2, random_state=42)\n",
        "\n",
        "# Define age bins and labels\n",
        "age_bins = [0, 12, 18, 35, 60, 80]\n",
        "age_labels = ['Child', 'Teen', 'Young Adult', 'Adult', 'Senior']\n",
        "\n",
        "# Apply bins to 'Age'\n",
        "train_df['AgeGroup'] = pd.cut(train_df['Age'], bins=age_bins, labels=age_labels, right=False)\n",
        "test_df['AgeGroup'] = pd.cut(test_df['Age'], bins=age_bins, labels=age_labels, right=False)\n",
        "\n",
        "# Define fare bins and labels\n",
        "fare_bins = [0, 7.91, 14.454, 31, 512]\n",
        "fare_labels = ['Low Fare', 'Medium Fare', 'High Fare', 'Very High Fare']\n",
        "\n",
        "# Apply bins to 'Fare'\n",
        "train_df['FareGroup'] = pd.cut(train_df['Fare'], bins=fare_bins, labels=fare_labels, right=False)\n",
        "test_df['FareGroup'] = pd.cut(test_df['Fare'], bins=fare_bins, labels=fare_labels, right=False)\n",
        "\n",
        "# Define SibSp bins and labels\n",
        "sibsp_bins = [0, 1, 3, 10]\n",
        "sibsp_labels = ['0', '1-2', '3+']\n",
        "\n",
        "# Apply bins to 'SibSp'\n",
        "train_df['SibSpGroup'] = pd.cut(train_df['SibSp'], bins=sibsp_bins, labels=sibsp_labels, right=False)\n",
        "test_df['SibSpGroup'] = pd.cut(test_df['SibSp'], bins=sibsp_bins, labels=sibsp_labels, right=False)\n",
        "\n",
        "# Display the first few rows of the modified training data\n",
        "print(train_df.head())\n",
        "\n",
        "# Display the first few rows of the modified test data\n",
        "print(test_df.head())\n"
      ],
      "metadata": {
        "colab": {
          "base_uri": "https://localhost:8080/"
        },
        "id": "1idQbRxpRB9u",
        "outputId": "ae46c1ed-b32f-403a-ad87-c5763b49ed2b"
      },
      "execution_count": null,
      "outputs": [
        {
          "output_type": "stream",
          "name": "stdout",
          "text": [
            "     PassengerId  Survived  Pclass                           Name   Sex   Age  \\\n",
            "336         1228         0       2     de Brito, Mr. Jose Joaquim  male  32.0   \n",
            "31           923         0       2  Jefferys, Mr. Clifford Thomas  male  24.0   \n",
            "84           976         0       2          Lamb, Mr. John Joseph  male   NaN   \n",
            "287         1179         0       1     Snyder, Mr. John Pillsbury  male  24.0   \n",
            "317         1209         0       2     Rogers, Mr. Reginald Harry  male  19.0   \n",
            "\n",
            "     SibSp  Parch      Ticket     Fare Cabin Embarked     AgeGroup  \\\n",
            "336      0      0      244360  13.0000   NaN        S  Young Adult   \n",
            "31       2      0  C.A. 31029  31.5000   NaN        S  Young Adult   \n",
            "84       0      0      240261  10.7083   NaN        Q          NaN   \n",
            "287      1      0       21228  82.2667   B45        S  Young Adult   \n",
            "317      0      0       28004  10.5000   NaN        S  Young Adult   \n",
            "\n",
            "          FareGroup SibSpGroup  \n",
            "336     Medium Fare          0  \n",
            "31   Very High Fare        1-2  \n",
            "84      Medium Fare          0  \n",
            "287  Very High Fare        1-2  \n",
            "317     Medium Fare          0  \n",
            "     PassengerId  Survived  Pclass  \\\n",
            "321         1213         0       3   \n",
            "324         1216         1       1   \n",
            "388         1280         0       3   \n",
            "56           948         0       3   \n",
            "153         1045         1       3   \n",
            "\n",
            "                                               Name     Sex   Age  SibSp  \\\n",
            "321                           Krekorian, Mr. Neshan    male  25.0      0   \n",
            "324                          Kreuchen, Miss. Emilie  female  39.0      0   \n",
            "388                            Canavan, Mr. Patrick    male  21.0      0   \n",
            "56                                  Cor, Mr. Bartol    male  35.0      0   \n",
            "153  Klasen, Mrs. (Hulda Kristina Eugenia Lofqvist)  female  36.0      0   \n",
            "\n",
            "     Parch  Ticket      Fare  Cabin Embarked     AgeGroup       FareGroup  \\\n",
            "321      0    2654    7.2292  F E57        C  Young Adult        Low Fare   \n",
            "324      0   24160  211.3375    NaN        S        Adult  Very High Fare   \n",
            "388      0  364858    7.7500    NaN        Q  Young Adult        Low Fare   \n",
            "56       0  349230    7.8958    NaN        S        Adult        Low Fare   \n",
            "153      2  350405   12.1833    NaN        S        Adult     Medium Fare   \n",
            "\n",
            "    SibSpGroup  \n",
            "321          0  \n",
            "324          0  \n",
            "388          0  \n",
            "56           0  \n",
            "153          0  \n"
          ]
        }
      ]
    },
    {
      "cell_type": "code",
      "source": [
        "import pandas as pd\n",
        "import seaborn as sns\n",
        "import matplotlib.pyplot as plt\n",
        "\n",
        "# Load the dataset\n",
        "titanic_df = pd.read_csv('tested.csv')\n",
        "\n",
        "# Display the first few rows of the dataset to understand its structure\n",
        "print(titanic_df.head())\n",
        "\n",
        "# Check for null values in each column\n",
        "null_counts = titanic_df.isnull().sum()\n",
        "\n",
        "# Display the number of null values for each column\n",
        "print(\"Null values in each column:\\n\", null_counts)\n",
        "\n",
        "# Optional: Plot heatmap of null values\n",
        "plt.figure(figsize=(10, 6))\n",
        "sns.heatmap(titanic_df.isnull(), cbar=False, cmap='plasma')\n",
        "plt.title('Heatmap of Null Values in Titanic Dataset')\n",
        "plt.show()\n"
      ],
      "metadata": {
        "colab": {
          "base_uri": "https://localhost:8080/",
          "height": 1000
        },
        "id": "czSlPkQwRHrU",
        "outputId": "5c5800e9-e3cb-40a8-ba48-cef32d53def2"
      },
      "execution_count": null,
      "outputs": [
        {
          "output_type": "stream",
          "name": "stdout",
          "text": [
            "   PassengerId  Survived  Pclass  \\\n",
            "0          892         0       3   \n",
            "1          893         1       3   \n",
            "2          894         0       2   \n",
            "3          895         0       3   \n",
            "4          896         1       3   \n",
            "\n",
            "                                           Name     Sex   Age  SibSp  Parch  \\\n",
            "0                              Kelly, Mr. James    male  34.5      0      0   \n",
            "1              Wilkes, Mrs. James (Ellen Needs)  female  47.0      1      0   \n",
            "2                     Myles, Mr. Thomas Francis    male  62.0      0      0   \n",
            "3                              Wirz, Mr. Albert    male  27.0      0      0   \n",
            "4  Hirvonen, Mrs. Alexander (Helga E Lindqvist)  female  22.0      1      1   \n",
            "\n",
            "    Ticket     Fare Cabin Embarked  \n",
            "0   330911   7.8292   NaN        Q  \n",
            "1   363272   7.0000   NaN        S  \n",
            "2   240276   9.6875   NaN        Q  \n",
            "3   315154   8.6625   NaN        S  \n",
            "4  3101298  12.2875   NaN        S  \n",
            "Null values in each column:\n",
            " PassengerId      0\n",
            "Survived         0\n",
            "Pclass           0\n",
            "Name             0\n",
            "Sex              0\n",
            "Age             86\n",
            "SibSp            0\n",
            "Parch            0\n",
            "Ticket           0\n",
            "Fare             1\n",
            "Cabin          327\n",
            "Embarked         0\n",
            "dtype: int64\n"
          ]
        },
        {
          "output_type": "display_data",
          "data": {
            "text/plain": [
              "<Figure size 1000x600 with 1 Axes>"
            ],
            "image/png": "[encoded data removed]"
          },
          "metadata": {}
        }
      ]
    },
    {
      "cell_type": "code",
      "source": [
        "import pandas as pd\n",
        "\n",
        "# Load the dataset\n",
        "titanic_df = pd.read_csv('tested.csv')\n",
        "\n",
        "# Display the first few rows of the dataset to understand its structure\n",
        "print(titanic_df.head())\n",
        "\n",
        "# Check for null values in each column\n",
        "null_counts = titanic_df.isnull().sum()\n",
        "print(\"Null values in each column:\\n\", null_counts)\n",
        "\n",
        "# Fill missing values in 'Age' with the median\n",
        "titanic_df['Age'].fillna(titanic_df['Age'].median(), inplace=True)\n",
        "\n",
        "# Fill missing values in 'Fare' with the median\n",
        "titanic_df['Fare'].fillna(titanic_df['Fare'].median(), inplace=True)\n",
        "\n",
        "# Fill missing values in 'Embarked' with the most frequent value\n",
        "titanic_df['Embarked'].fillna(titanic_df['Embarked'].mode()[0], inplace=True)\n",
        "\n",
        "# Drop 'Cabin' column due to too many missing values\n",
        "titanic_df.drop(columns=['Cabin'], inplace=True)\n",
        "\n",
        "# Check for null values in each column after handling missing values\n",
        "null_counts_after = titanic_df.isnull().sum()\n",
        "print(\"Null values in each column after handling missing values:\\n\", null_counts_after)\n",
        "\n",
        "# Display the first few rows of the dataset to verify the changes\n",
        "print(titanic_df.head())\n"
      ],
      "metadata": {
        "colab": {
          "base_uri": "https://localhost:8080/"
        },
        "id": "c-FFl6EhRtQg",
        "outputId": "1a5dcd03-3c84-4f05-b8cd-fdd61a49abb5"
      },
      "execution_count": null,
      "outputs": [
        {
          "output_type": "stream",
          "name": "stdout",
          "text": [
            "   PassengerId  Survived  Pclass  \\\n",
            "0          892         0       3   \n",
            "1          893         1       3   \n",
            "2          894         0       2   \n",
            "3          895         0       3   \n",
            "4          896         1       3   \n",
            "\n",
            "                                           Name     Sex   Age  SibSp  Parch  \\\n",
            "0                              Kelly, Mr. James    male  34.5      0      0   \n",
            "1              Wilkes, Mrs. James (Ellen Needs)  female  47.0      1      0   \n",
            "2                     Myles, Mr. Thomas Francis    male  62.0      0      0   \n",
            "3                              Wirz, Mr. Albert    male  27.0      0      0   \n",
            "4  Hirvonen, Mrs. Alexander (Helga E Lindqvist)  female  22.0      1      1   \n",
            "\n",
            "    Ticket     Fare Cabin Embarked  \n",
            "0   330911   7.8292   NaN        Q  \n",
            "1   363272   7.0000   NaN        S  \n",
            "2   240276   9.6875   NaN        Q  \n",
            "3   315154   8.6625   NaN        S  \n",
            "4  3101298  12.2875   NaN        S  \n",
            "Null values in each column:\n",
            " PassengerId      0\n",
            "Survived         0\n",
            "Pclass           0\n",
            "Name             0\n",
            "Sex              0\n",
            "Age             86\n",
            "SibSp            0\n",
            "Parch            0\n",
            "Ticket           0\n",
            "Fare             1\n",
            "Cabin          327\n",
            "Embarked         0\n",
            "dtype: int64\n",
            "Null values in each column after handling missing values:\n",
            " PassengerId    0\n",
            "Survived       0\n",
            "Pclass         0\n",
            "Name           0\n",
            "Sex            0\n",
            "Age            0\n",
            "SibSp          0\n",
            "Parch          0\n",
            "Ticket         0\n",
            "Fare           0\n",
            "Embarked       0\n",
            "dtype: int64\n",
            "   PassengerId  Survived  Pclass  \\\n",
            "0          892         0       3   \n",
            "1          893         1       3   \n",
            "2          894         0       2   \n",
            "3          895         0       3   \n",
            "4          896         1       3   \n",
            "\n",
            "                                           Name     Sex   Age  SibSp  Parch  \\\n",
            "0                              Kelly, Mr. James    male  34.5      0      0   \n",
            "1              Wilkes, Mrs. James (Ellen Needs)  female  47.0      1      0   \n",
            "2                     Myles, Mr. Thomas Francis    male  62.0      0      0   \n",
            "3                              Wirz, Mr. Albert    male  27.0      0      0   \n",
            "4  Hirvonen, Mrs. Alexander (Helga E Lindqvist)  female  22.0      1      1   \n",
            "\n",
            "    Ticket     Fare Embarked  \n",
            "0   330911   7.8292        Q  \n",
            "1   363272   7.0000        S  \n",
            "2   240276   9.6875        Q  \n",
            "3   315154   8.6625        S  \n",
            "4  3101298  12.2875        S  \n"
          ]
        }
      ]
    },
    {
      "source": [
        "#Oversampling and Under Sampling\n",
        "import pandas as pd\n",
        "from sklearn.linear_model import LogisticRegression\n",
        "from sklearn.model_selection import train_test_split\n",
        "from sklearn.metrics import accuracy_score, classification_report, confusion_matrix\n",
        "from sklearn.impute import SimpleImputer\n",
        "\n",
        "# Initialize the Logistic Regression model\n",
        "logr = LogisticRegression(max_iter=200)\n",
        "\n",
        "# Read the dataset\n",
        "df = pd.read_csv(\"tested.csv\")\n",
        "\n",
        "# Prepare the feature and target variables\n",
        "x = df.drop(['PassengerId', 'Embarked'], axis=1)\n",
        "y = df['Embarked']\n",
        "\n",
        "# One-hot encode categorical variables if necessary\n",
        "x = pd.get_dummies(x)\n",
        "\n",
        "# Handle missing values by imputing with the mean\n",
        "imputer = SimpleImputer(strategy='mean')\n",
        "x = imputer.fit_transform(x)\n",
        "\n",
        "# Split the data into training and testing sets\n",
        "X_train, X_test, y_train, y_test = train_test_split(x, y, random_state=1, test_size=0.3)\n",
        "from collections import Counter\n",
        "print(Counter(y)) # Changed Y to y\n",
        "from imblearn.over_sampling import RandomOverSampler     #Random OverSampling\n",
        "ros=RandomOverSampler(random_state=0)\n",
        "X, y = ros.fit_resample(X_train, y_train) # Changed Y to y, using training data for resampling\n",
        "print(Counter(y)) # Changed Y to y\n",
        "\n",
        "\n",
        "from imblearn.over_sampling import SMOTE                 #Synthetic Minority Oversampling (SMOTE) oversampling\n",
        "sms=SMOTE(random_state=0)\n",
        "X, y=sms.fit_resample(X, y) # Changed Y to y\n",
        "\n",
        "from imblearn.under_sampling import RandomUnderSampler   #Random UnderSampling\n",
        "rus=RandomUnderSampler(random_state=0)\n",
        "X, y=rus.fit_resample(X, y) # Changed Y to y"
      ],
      "cell_type": "code",
      "metadata": {
        "colab": {
          "base_uri": "https://localhost:8080/"
        },
        "id": "bjuGl3r1rYeh",
        "outputId": "3f890813-47ba-4805-c9f7-f738e44a1c58"
      },
      "execution_count": null,
      "outputs": [
        {
          "output_type": "stream",
          "name": "stdout",
          "text": [
            "Counter({'S': 270, 'C': 102, 'Q': 46})\n",
            "Counter({'S': 182, 'Q': 182, 'C': 182})\n"
          ]
        }
      ]
    },
    {
      "cell_type": "code",
      "source": [
        "#Identifying Outliers by ploting\n",
        "from matplotlib import pyplot as plt\n",
        "import seaborn as sns\n",
        "sns.boxplot(df['Age'])\n",
        "plt.show()"
      ],
      "metadata": {
        "colab": {
          "base_uri": "https://localhost:8080/",
          "height": 411
        },
        "id": "lb6IP4crrgPS",
        "outputId": "ecdfe6a8-f667-452e-9861-15f415ba1ce9"
      },
      "execution_count": null,
      "outputs": [
        {
          "output_type": "display_data",
          "data": {
            "text/plain": [
              "<Figure size 640x480 with 1 Axes>"
            ],
            "image/png": "[encoded data removed]"
          },
          "metadata": {}
        }
      ]
    },
    {
      "cell_type": "code",
      "source": [
        "import pandas as pd\n",
        "\n",
        "# Load the Titanic dataset\n",
        "# df = pd.read_csv('path/to/titanic.csv') # Uncomment and set the correct path\n",
        "\n",
        "# Check the data type of the 'Fare' column and convert if necessary\n",
        "if df['Fare'].dtype == object:\n",
        "    df['Fare'] = pd.to_numeric(df['Fare'], errors='coerce')  # Convert to numeric, replace non-numeric with NaN\n",
        "\n",
        "# Fill NaN values if any were introduced during conversion\n",
        "df['Fare'].fillna(df['Fare'].mean(), inplace=True)  # Replace NaN with mean\n",
        "\n",
        "print(df['Fare'])\n",
        "\n",
        "# Calculate Q1, Q3, and IQR\n",
        "Q1 = df['Fare'].quantile(0.25)\n",
        "Q3 = df['Fare'].quantile(0.75)\n",
        "IQR = Q3 - Q1\n",
        "print(IQR)\n",
        "\n",
        "# Define upper and lower bounds\n",
        "upper = Q3 + 1.5 * IQR\n",
        "lower = Q1 - 1.5 * IQR\n",
        "\n",
        "print(upper)\n",
        "print(lower)\n",
        "\n",
        "# Identify outliers\n",
        "out1 = df[df['Fare'] < lower].values\n",
        "out2 = df[df['Fare'] > upper].values\n",
        "\n",
        "# Replace outliers with the respective bounds\n",
        "df['Fare'].replace(out1, lower, inplace=True)\n",
        "df['Fare'].replace(out2, upper, inplace=True)\n",
        "\n",
        "print(df['Fare'])\n"
      ],
      "metadata": {
        "colab": {
          "base_uri": "https://localhost:8080/"
        },
        "id": "TptzFnsCrtBa",
        "outputId": "f5882b7f-e4c9-47a3-bf38-6c19703b4c72"
      },
      "execution_count": null,
      "outputs": [
        {
          "output_type": "stream",
          "name": "stdout",
          "text": [
            "0        7.8292\n",
            "1        7.0000\n",
            "2        9.6875\n",
            "3        8.6625\n",
            "4       12.2875\n",
            "         ...   \n",
            "413      8.0500\n",
            "414    108.9000\n",
            "415      7.2500\n",
            "416      8.0500\n",
            "417     22.3583\n",
            "Name: Fare, Length: 418, dtype: float64\n",
            "23.6042\n",
            "66.9063\n",
            "-27.5105\n",
            "0        7.8292\n",
            "1        7.0000\n",
            "2        9.6875\n",
            "3        8.6625\n",
            "4       12.2875\n",
            "         ...   \n",
            "413      8.0500\n",
            "414    108.9000\n",
            "415      7.2500\n",
            "416      8.0500\n",
            "417     22.3583\n",
            "Name: Fare, Length: 418, dtype: float64\n"
          ]
        }
      ]
    },
    {
      "cell_type": "code",
      "source": [
        "#principle component analysis\n",
        "import pandas as pd\n",
        "from sklearn.decomposition import PCA\n",
        "from sklearn.linear_model import LogisticRegression\n",
        "from sklearn.model_selection import train_test_split\n",
        "from sklearn.metrics import accuracy_score\n",
        "\n",
        "# Load the Titanic dataset\n",
        "# df = pd.read_csv('path/to/titanic.csv') # Uncomment and set the correct path\n",
        "\n",
        "# Select features and target variable\n",
        "# Here, we assume 'Survived' is the target and we drop 'PassengerId', 'Name', 'Ticket', 'Cabin' as they are not numerical\n",
        "X = df.drop(['Survived', 'PassengerId', 'Name', 'Ticket', 'Cabin'], axis=1)\n",
        "\n",
        "# Handling categorical variables: 'Sex' and 'Embarked'\n",
        "X = pd.get_dummies(X, columns=['Sex', 'Embarked'], drop_first=True)\n",
        "\n",
        "# Handling missing values\n",
        "X.fillna(X.mean(), inplace=True)  # Fill NaN values with column means\n",
        "\n",
        "Y = df['Survived']\n",
        "\n",
        "# Initialize PCA and Logistic Regression\n",
        "pca = PCA(n_components=2)\n",
        "logr = LogisticRegression(max_iter=1000)  # Increased max_iter for convergence\n",
        "\n",
        "# Fit PCA\n",
        "pca.fit(X)\n",
        "X_pca = pca.transform(X)\n",
        "\n",
        "print(X_pca)\n",
        "\n",
        "# Split the data into training and testing sets\n",
        "X_train, X_test, y_train, y_test = train_test_split(X_pca, Y, random_state=0, test_size=0.3)\n",
        "\n",
        "# Train the logistic regression model\n",
        "logr.fit(X_train, y_train)\n",
        "\n",
        "# Predict and evaluate the model\n",
        "y_pred = logr.predict(X_test)\n",
        "print(accuracy_score(y_test, y_pred))\n"
      ],
      "metadata": {
        "colab": {
          "base_uri": "https://localhost:8080/"
        },
        "id": "LJuBkuLasLSw",
        "outputId": "a4db206d-5192-4518-ad56-3b8f389e1697"
      },
      "execution_count": null,
      "outputs": [
        {
          "output_type": "stream",
          "name": "stdout",
          "text": [
            "[[-2.73965625e+01  6.36219121e+00]\n",
            " [-2.72541597e+01  1.88668863e+01]\n",
            " [-2.34112801e+01  3.36463217e+01]\n",
            " [-2.71457110e+01 -1.18190439e+00]\n",
            " [-2.39095538e+01 -6.47046478e+00]\n",
            " [-2.75889451e+01 -1.41826089e+01]\n",
            " [-2.79418649e+01  1.88964550e+00]\n",
            " [-6.93182768e+00 -3.75440740e+00]\n",
            " [-2.92665741e+01 -1.00410773e+01]\n",
            " [-1.21632677e+01 -8.38151972e+00]\n",
            " [-2.76573297e+01  2.13918260e+00]\n",
            " [-8.37602499e+00  1.64519343e+01]\n",
            " [ 4.59476332e+01 -1.08356417e+01]\n",
            " [-7.06909542e+00  3.33666371e+01]\n",
            " [ 2.67736298e+01  1.47157499e+01]\n",
            " [-8.36242518e+00 -5.63762985e+00]\n",
            " [-2.28421545e+01  6.52935625e+00]\n",
            " [-2.90406999e+01 -7.04781146e+00]\n",
            " [-2.78766242e+01 -1.13880570e+00]\n",
            " [-2.71854802e+01  1.68704048e+01]\n",
            " [ 2.56217872e+01  2.28326772e+01]\n",
            " [-3.40069107e+01 -1.87090697e+01]\n",
            " [-3.92303354e+00  3.34150418e-01]\n",
            " [ 2.49703472e+01 -1.12082356e+01]\n",
            " [ 2.27452787e+02  1.30490470e-01]\n",
            " [-1.95468964e+01  2.12800866e+01]\n",
            " [ 2.56473925e+01 -1.02607179e+01]\n",
            " [-2.89248510e+01 -5.55274716e+00]\n",
            " [-4.27586700e+00  1.11205421e+01]\n",
            " [-1.39088733e+01  1.05478245e+00]\n",
            " [-8.07311966e+00  2.04094132e+01]\n",
            " [-4.59517819e+00 -5.94127457e+00]\n",
            " [-1.47936923e+01  3.84183094e+00]\n",
            " [-1.21380765e+01  9.01161743e-01]\n",
            " [ 2.20459869e+01 -1.95751815e+00]\n",
            " [-2.92295943e+01 -9.53990994e+00]\n",
            " [-2.75019619e+01  2.12445056e+00]\n",
            " [-2.76074703e+01 -7.16497416e+00]\n",
            " [-2.64652221e+01 -3.24006118e+00]\n",
            " [ 2.07949389e+01 -1.61753838e+00]\n",
            " [-2.14736392e+01  1.04034538e+01]\n",
            " [-9.04236613e+00  7.33760847e-01]\n",
            " [-2.68744844e+01  1.28348343e+01]\n",
            " [-2.25793278e+01  1.48839078e+00]\n",
            " [ 1.80245695e+01  1.33887082e+01]\n",
            " [-2.80354345e+01 -3.11831560e+00]\n",
            " [-4.76296739e+00  1.51724524e+01]\n",
            " [-2.78020157e+01  2.15481379e+00]\n",
            " [ 4.28472319e+01  2.65188010e+01]\n",
            " [-1.92254921e+01  7.20442796e+00]\n",
            " [ 2.38242144e+01 -8.11493074e+00]\n",
            " [-2.07840056e+01 -1.65286374e+00]\n",
            " [-1.33726400e+01 -9.28478105e+00]\n",
            " [ 2.26531120e+02 -1.98665428e+01]\n",
            " [-1.99870142e+01  1.56676086e+00]\n",
            " [-8.04286717e+00 -1.97586137e+01]\n",
            " [-2.72922194e+01  6.85103686e+00]\n",
            " [-2.83095986e+01 -3.09705843e+00]\n",
            " [-1.94753598e+01  1.49391131e+00]\n",
            " [ 2.26511304e+02 -1.17862409e+01]\n",
            " [-2.86824068e+01 -1.10897347e+01]\n",
            " [-2.19280189e+01  3.44597303e+00]\n",
            " [-2.87505310e+01 -1.00817550e+01]\n",
            " [-2.84642172e+01 -6.09143599e+00]\n",
            " [ 2.24746723e+02 -3.47517317e+01]\n",
            " [-1.45825928e+01  1.14169391e+00]\n",
            " [-2.86194165e+01 -1.00901936e+01]\n",
            " [ 8.05135589e+00  1.61809437e+01]\n",
            " [-7.00319058e+00  1.30837875e+00]\n",
            " [ 2.29005136e+02  1.20285645e+01]\n",
            " [-2.82848279e+01 -4.09994940e+00]\n",
            " [-2.83734763e+01 -7.10289660e+00]\n",
            " [-2.77248675e+01  8.65709962e-01]\n",
            " [-8.01048961e+00 -1.12026516e+00]\n",
            " [ 1.75713718e+02 -8.85037476e+00]\n",
            " [ 1.75519000e+02 -1.13393360e+01]\n",
            " [-2.75035984e+01  2.12726313e+00]\n",
            " [-7.97296580e+00  2.54205040e+01]\n",
            " [-2.25809643e+01  1.49120336e+00]\n",
            " [-2.82848279e+01 -4.09994940e+00]\n",
            " [-2.21960676e+01 -2.26404446e+01]\n",
            " [ 1.88432651e+02  2.22382435e+01]\n",
            " [-8.14432709e+00  1.94420629e+01]\n",
            " [-2.76573297e+01  2.13918260e+00]\n",
            " [-2.48439745e+01  1.94440341e+00]\n",
            " [-2.11146197e+01  1.62436278e+00]\n",
            " [-2.79243228e+01 -1.11980780e+00]\n",
            " [-2.84498064e+01 -1.01077572e+01]\n",
            " [-2.78003792e+01  2.15200121e+00]\n",
            " [-1.47671725e+01 -2.72116435e+01]\n",
            " [-2.23059498e+01 -6.58421361e+00]\n",
            " [-2.77777625e+01  2.14852030e+00]\n",
            " [ 1.60898556e+01 -4.53101535e+00]\n",
            " [-2.75035984e+01  2.12726313e+00]\n",
            " [-9.99637304e+00 -4.47573277e+00]\n",
            " [-2.81642417e+01 -3.10832859e+00]\n",
            " [ 4.66346488e+01  4.22540703e+01]\n",
            " [-2.77265039e+01  8.68522534e-01]\n",
            " [-2.84905460e+01 -8.09920308e+00]\n",
            " [-2.72929534e+01  4.84569832e+00]\n",
            " [ 2.07503643e+01  1.11753220e+01]\n",
            " [-9.84947025e+00 -2.51490605e+00]\n",
            " [-2.78020157e+01  2.15481379e+00]\n",
            " [-2.81077459e+01 -2.11001125e+00]\n",
            " [-2.81307501e+01 -1.21560106e+01]\n",
            " [-1.32481168e+01 -1.25674927e+00]\n",
            " [-2.84475775e+01 -7.09273818e+00]\n",
            " [-2.78020157e+01  2.15481379e+00]\n",
            " [-2.68431122e+01  2.07605269e+00]\n",
            " [-2.34691395e+01 -9.97095627e+00]\n",
            " [-1.96902867e+01  1.23001035e+01]\n",
            " [-2.77712680e+01  2.14974409e+00]\n",
            " [-3.48324087e+00  6.04626425e+00]\n",
            " [-2.91748888e+01 -9.54577648e+00]\n",
            " [ 1.88125357e+02  1.82485928e+01]\n",
            " [-2.20624642e+01 -1.06078450e+01]\n",
            " [-2.91096595e+01  2.25514055e+00]\n",
            " [-2.11323520e+01 -2.77424459e+01]\n",
            " [ 3.99452039e+01  2.68174847e+00]\n",
            " [-9.69336850e+00 -5.24299559e-01]\n",
            " [-2.12278745e+01 -1.66649525e+01]\n",
            " [-2.77993072e+01  2.14371719e+00]\n",
            " [ 2.24337866e+01  3.02321694e+00]\n",
            " [-2.84766848e+01 -7.60103184e-02]\n",
            " [-2.78020157e+01  2.15481379e+00]\n",
            " [-2.04975145e+01 -1.17376175e+01]\n",
            " [-2.83959397e+01 -6.09845719e+00]\n",
            " [-1.23420782e+01  9.31676846e-01]\n",
            " [-2.16541726e+01  1.34517177e+01]\n",
            " [-2.79880471e+01 -4.12468748e+00]\n",
            " [-2.73701860e+01  3.84898878e+00]\n",
            " [-5.34145863e+00  2.32388872e+01]\n",
            " [-1.01222265e+01  7.34578956e-01]\n",
            " [-2.91069510e+01  2.24404395e+00]\n",
            " [-2.66743583e+01  1.48247131e+01]\n",
            " [-2.81832519e+01 -4.10955238e+00]\n",
            " [-2.86159204e+01 -1.56590902e+00]\n",
            " [-2.28898948e+01 -2.49563478e+00]\n",
            " [-2.80636432e+01 -5.12420958e+00]\n",
            " [ 1.20062562e+01  8.74313787e+00]\n",
            " [ 9.68577013e+00 -2.11617652e+01]\n",
            " [ 1.15789948e+02 -6.21296475e+00]\n",
            " [ 2.28455175e+02  1.30905270e+01]\n",
            " [-9.77494615e+00 -1.50709992e+00]\n",
            " [-8.13662739e+00  1.24225818e+01]\n",
            " [-1.75195385e+01  2.04986655e+00]\n",
            " [ 1.61931904e+01 -1.22286467e+00]\n",
            " [-2.81425124e+01 -6.11810654e+00]\n",
            " [-9.04236613e+00  7.33760847e-01]\n",
            " [-9.61377792e+00  4.64327086e-01]\n",
            " [ 4.68393462e+01 -1.09011271e+01]\n",
            " [-2.76557924e+01  2.14241573e+00]\n",
            " [ 2.32430505e+00  3.01235273e+01]\n",
            " [-2.29308943e+01  7.49172435e+00]\n",
            " [-5.55222301e+00 -1.69586301e+01]\n",
            " [-2.84865272e+01 -4.08603809e+00]\n",
            " [ 1.85496739e+02 -1.56284348e+01]\n",
            " [-2.82588481e+01 -5.10907448e+00]\n",
            " [-8.13662739e+00  1.24225818e+01]\n",
            " [-2.21163590e+01 -2.59840745e+00]\n",
            " [-2.78170285e+01  2.15329210e+00]\n",
            " [-2.21188350e+01 -2.16437351e+01]\n",
            " [-2.23897782e+01 -2.53709674e+00]\n",
            " [-2.85504067e+01  2.20842686e+00]\n",
            " [-2.17314053e+01  1.24550082e+01]\n",
            " [-1.38927227e+01 -3.23632357e+00]\n",
            " [ 1.62013167e+01  1.65550909e+01]\n",
            " [-2.19305814e+00 -1.21838193e+01]\n",
            " [-7.87195130e+00  6.43679979e-01]\n",
            " [-2.72311496e+01 -6.19145426e+00]\n",
            " [-2.80020785e+01  2.16591252e+00]\n",
            " [-2.85773041e+01 -1.06755426e+00]\n",
            " [-2.22303537e+01 -5.58469150e+00]\n",
            " [-2.83203661e+01  2.19394310e+00]\n",
            " [-3.46308422e+00  9.95313074e+00]\n",
            " [ 2.19113831e+00 -1.54938116e+01]\n",
            " [ 3.26152042e-01 -1.03145507e+01]\n",
            " [ 2.15982868e+01  2.21419394e+01]\n",
            " [ 3.81701805e+00  5.42619317e+00]\n",
            " [ 5.00098786e+01  2.99530683e+01]\n",
            " [-2.25809643e+01  1.49120336e+00]\n",
            " [ 4.79216751e+01  3.04452238e+00]\n",
            " [ 1.64834293e+01 -1.35646389e+01]\n",
            " [-2.78020157e+01  2.15481379e+00]\n",
            " [ 2.11013866e+02 -1.96304072e+01]\n",
            " [-1.88177571e+01  1.12264023e+01]\n",
            " [-1.52947450e+01 -8.11128076e+00]\n",
            " [-2.85232584e+01 -1.11238474e+01]\n",
            " [ 3.38407512e+01 -2.73998844e+00]\n",
            " [-2.18086379e+01  1.14582987e+01]\n",
            " [-9.30884181e+00  4.46206068e+00]\n",
            " [-9.59069427e+00  7.76275179e-01]\n",
            " [-2.25163584e+01 -1.71041259e+01]\n",
            " [-2.08341060e+01  3.24438041e+01]\n",
            " [-4.83136830e+00 -2.19655236e+01]\n",
            " [-2.74881582e+01  4.86083342e+00]\n",
            " [ 9.67143839e+01 -3.18219231e+01]\n",
            " [-2.87239705e+01 -1.00865001e+01]\n",
            " [-2.56139933e+01 -5.29251641e+00]\n",
            " [-2.74396519e+01  2.11961938e+00]\n",
            " [-2.00739372e+01  1.55293562e+00]\n",
            " [-2.34774570e+01 -2.82294403e+01]\n",
            " [ 1.92617870e+02  1.86314257e+00]\n",
            " [-1.13112594e+01 -2.14660952e+01]\n",
            " [-2.54595281e+01 -3.29909735e+00]\n",
            " [-9.84667183e+00  7.99474578e-01]\n",
            " [-2.74352689e+01  6.86385547e+00]\n",
            " [-2.55367607e+01 -4.29580688e+00]\n",
            " [-7.66130626e+00  3.36211517e+00]\n",
            " [-2.80645457e+01 -3.11605847e+00]\n",
            " [-1.29391863e+01  2.73008886e+00]\n",
            " [-2.85005587e+01  2.20456192e+00]\n",
            " [ 3.67311072e+01 -1.61425971e+01]\n",
            " [-7.29915683e+00  3.03736960e+01]\n",
            " [-2.71604948e+01  9.78151327e+00]\n",
            " [ 7.76488874e+00  1.11896662e+01]\n",
            " [-2.76715720e+01  2.14201421e+00]\n",
            " [ 1.30924818e+02  1.66595198e+01]\n",
            " [ 1.76878910e+02  6.07827618e+00]\n",
            " [-2.75035984e+01  2.12726313e+00]\n",
            " [-2.17193910e+01  1.41418176e+00]\n",
            " [-2.82197450e+01 -7.11481608e+00]\n",
            " [-2.56895895e+01 -6.29203852e+00]\n",
            " [-2.84731723e+01 -7.09516673e+00]\n",
            " [-6.39081765e+00  2.33175630e+01]\n",
            " [-2.03185092e+01  1.54966616e+00]\n",
            " [-2.83187070e+01 -5.10174766e+00]\n",
            " [-2.78003792e+01  2.15200121e+00]\n",
            " [-1.96851388e+01  1.17760634e+01]\n",
            " [-2.21175684e+01  7.47146055e+00]\n",
            " [ 2.80252471e+01 -1.84756860e+01]\n",
            " [-9.75687622e+00 -8.51113093e+00]\n",
            " [-2.97665121e+01 -7.00577490e+00]\n",
            " [-2.76732085e+01  2.14482678e+00]\n",
            " [ 3.62332429e+01  5.96675999e+00]\n",
            " [-2.84921824e+01 -8.09639051e+00]\n",
            " [ 4.21187010e+01  3.05778772e+01]\n",
            " [-2.91179326e+01 -8.04452099e+00]\n",
            " [-2.34994164e+01 -1.04941157e+01]\n",
            " [ 7.19648514e+01  1.22179225e+01]\n",
            " [-5.96218831e+00  2.52897249e+01]\n",
            " [-4.46452500e+00  1.51031635e+01]\n",
            " [ 9.97251707e+01  7.04954758e+00]\n",
            " [-2.76656044e+01  2.13982418e+00]\n",
            " [-1.21397130e+01  9.03974315e-01]\n",
            " [ 1.70244051e+01  9.45815019e+00]\n",
            " [-1.52215068e+01 -7.10367577e+00]\n",
            " [-2.20674463e+00  1.19223994e+01]\n",
            " [-9.69336850e+00 -5.24299559e-01]\n",
            " [-2.11129832e+01  1.62155020e+00]\n",
            " [-1.01093916e+01 -2.86689670e+01]\n",
            " [-2.84215977e+01 -8.10186326e+00]\n",
            " [ 1.00603261e+02 -1.10565079e+01]\n",
            " [-2.67169228e+01 -4.22324343e+00]\n",
            " [-2.58859773e+01  4.23526031e+00]\n",
            " [-2.80020785e+01  2.16591252e+00]\n",
            " [-2.78020157e+01  2.15481379e+00]\n",
            " [-2.76791165e+01 -1.37849347e-01]\n",
            " [-2.34288867e+01 -9.47541408e+00]\n",
            " [-2.84939091e+01 -7.09355891e+00]\n",
            " [-1.76983522e+01  7.60034144e+00]\n",
            " [-2.84149498e+01 -7.09968097e+00]\n",
            " [-1.26789690e+01 -3.03097528e-01]\n",
            " [-2.56353224e+01 -2.73933104e+01]\n",
            " [-2.28411290e+01  1.51472741e+00]\n",
            " [-2.76573297e+01  2.13918260e+00]\n",
            " [-3.55116610e+01  2.78604361e+00]\n",
            " [-2.80020785e+01  2.16591252e+00]\n",
            " [-2.75019619e+01  2.12445056e+00]\n",
            " [-2.79180374e+01 -1.11489997e+01]\n",
            " [ 4.07175303e+01  1.26488438e+01]\n",
            " [-2.78020157e+01  2.15481379e+00]\n",
            " [ 1.00527665e+02 -1.20560300e+01]\n",
            " [-2.00712287e+01  1.54183903e+00]\n",
            " [-2.83245533e+01  2.19426775e+00]\n",
            " [-1.03884622e+01 -9.49468536e+00]\n",
            " [-2.52278302e+01 -3.08968746e-01]\n",
            " [-8.84544600e+00  1.04423179e+01]\n",
            " [-1.46025736e+01  8.61716475e-01]\n",
            " [-2.56912260e+01 -6.28922594e+00]\n",
            " [-2.74530051e+01 -5.17155509e+00]\n",
            " [-2.40694054e+01 -2.77627117e+01]\n",
            " [-2.78003792e+01  2.15200121e+00]\n",
            " [-2.19627332e+01 -1.96531286e+01]\n",
            " [-1.75532964e+01 -2.70172483e+01]\n",
            " [-2.78588237e+01  7.89766594e+00]\n",
            " [-2.83011666e+01  2.18910216e+00]\n",
            " [ 4.60232294e+01 -9.83611961e+00]\n",
            " [-2.83203661e+01  2.19394310e+00]\n",
            " [-2.75035984e+01  2.12726313e+00]\n",
            " [ 3.96796525e+00 -2.74988306e-01]\n",
            " [-2.86190003e+01  1.94214683e+00]\n",
            " [-2.83203661e+01  2.19394310e+00]\n",
            " [ 4.78598116e+01  1.90891302e+01]\n",
            " [-2.56156631e+01  7.72374368e+00]\n",
            " [-2.79873131e+01 -2.11934894e+00]\n",
            " [ 3.68548714e+00 -2.96549775e+01]\n",
            " [-1.39088733e+01  1.05478245e+00]\n",
            " [ 9.82897791e+00 -1.00274455e+00]\n",
            " [-2.77970887e+01  8.73995288e-01]\n",
            " [-2.76443501e+01  3.87024595e+00]\n",
            " [-2.05187928e+01  1.60799203e+00]\n",
            " [-1.35972635e+01  1.38191415e+01]\n",
            " [-2.73774089e+01 -4.17203298e+00]\n",
            " [-2.78003792e+01  2.15200121e+00]\n",
            " [-6.42916998e+00  3.43253869e+01]\n",
            " [ 1.15567311e+02 -9.23316829e+00]\n",
            " [-2.84774845e+01 -2.73298312e+01]\n",
            " [ 5.96205892e+01  2.01826600e+01]\n",
            " [-2.03219324e+01  1.63240043e+01]\n",
            " [-2.78408047e+01 -1.01522902e+01]\n",
            " [-2.89634673e+01 -6.05110192e+00]\n",
            " [-2.79771545e+01  2.16398005e+00]\n",
            " [-2.72808037e+01  8.85727453e+00]\n",
            " [ 1.01622286e+02  1.69482197e+01]\n",
            " [-2.88421056e+01 -1.10756252e+01]\n",
            " [ 1.12632228e+02  1.80917642e+01]\n",
            " [-2.59229239e+01 -9.27935454e+00]\n",
            " [-2.79515540e+01 -1.11942378e+00]\n",
            " [-4.74964346e+00 -7.93469363e+00]\n",
            " [-2.81077459e+01 -2.11001125e+00]\n",
            " [-2.87275822e+01 -3.06129798e+00]\n",
            " [-2.28898948e+01 -2.49563478e+00]\n",
            " [-8.83172110e+00  3.45219603e+00]\n",
            " [ 1.75859105e+02 -4.85420870e+00]\n",
            " [-2.90622400e+01 -5.04409823e+00]\n",
            " [ 1.96086305e+00 -1.84952379e+01]\n",
            " [ 4.46637981e+01  1.23428720e+01]\n",
            " [-9.69500498e+00 -5.21486987e-01]\n",
            " [-2.32760580e+01 -7.47918244e+00]\n",
            " [ 2.49665466e+00  1.75715253e+01]\n",
            " [-5.22636320e+00  9.19219518e+00]\n",
            " [-2.83245533e+01  2.19426775e+00]\n",
            " [-2.06960143e+01 -9.72436572e+00]\n",
            " [-2.79100805e+01 -1.12263941e+00]\n",
            " [-9.61174714e+00  5.04581767e-01]\n",
            " [-2.24264990e+01  3.48462242e+00]\n",
            " [-2.76383364e+01  1.08708446e+01]\n",
            " [-4.52336263e+00 -4.92237184e+00]\n",
            " [-2.83203661e+01  2.19394310e+00]\n",
            " [-2.60001565e+01 -1.02760641e+01]\n",
            " [-2.78395549e+01  3.88538105e+00]\n",
            " [ 3.38481159e+01 -2.73576793e+00]\n",
            " [ 4.77408820e+02 -9.19068282e+00]\n",
            " [-2.10665018e+01  1.60669391e+00]\n",
            " [-2.90030558e+01 -1.20702568e+01]\n",
            " [-2.28898948e+01 -2.49563478e+00]\n",
            " [-2.77219214e+01  9.89311338e+00]\n",
            " [-2.25458799e+01 -4.52770324e+00]\n",
            " [-1.45264131e+01  1.86671003e+00]\n",
            " [ 2.87986510e+01  1.25569986e+01]\n",
            " [-2.54595281e+01 -3.29909735e+00]\n",
            " [ 3.68083398e+01 -1.51458876e+01]\n",
            " [ 3.07390867e+01  1.63762601e+01]\n",
            " [-1.73292396e+01 -2.88801430e+01]\n",
            " [-8.06709446e+00  2.04387724e+01]\n",
            " [ 1.80368026e+01  2.74146412e+01]\n",
            " [-2.76738792e+01  2.14046576e+00]\n",
            " [-2.78020157e+01  2.15481379e+00]\n",
            " [-2.00431043e+01  1.26191966e+00]\n",
            " [ 3.26209560e+01 -1.84578670e+01]\n",
            " [ 8.96750118e-01 -6.36612086e+00]\n",
            " [-1.45264131e+01  1.86671003e+00]\n",
            " [-2.71457110e+01 -1.18190439e+00]\n",
            " [ 1.93601768e+01 -6.76544960e+00]\n",
            " [ 3.38497524e+01 -2.73858050e+00]\n",
            " [-2.11105322e+01  1.62404585e+00]\n",
            " [ 3.40045433e+00 -8.56645945e+00]\n",
            " [ 2.48523832e+01  1.28629704e+01]\n",
            " [-2.18009686e+01  4.31381398e-01]\n",
            " [-2.47687898e+01 -7.37433086e+00]\n",
            " [ 9.86388474e+01 -6.88520639e+00]\n",
            " [-3.40652938e+01  2.14518313e+01]\n",
            " [-2.14997074e+01  1.54451368e+01]\n",
            " [ 4.79386808e+01  2.00830272e+01]\n",
            " [ 2.27206397e+02 -2.81585515e+00]\n",
            " [-2.75248206e+01 -6.19045781e+00]\n",
            " [-2.47714984e+01 -7.36323426e+00]\n",
            " [ 1.62461149e+01  2.35671492e+01]\n",
            " [-6.17008408e+00 -2.49323063e+01]\n",
            " [-2.78020157e+01  2.15481379e+00]\n",
            " [-2.80031919e+01 -2.11370476e+00]\n",
            " [-2.10715682e+01  1.62587339e+00]\n",
            " [-2.03443351e+01 -9.74439954e+00]\n",
            " [-2.26845314e+01  1.77255912e+00]\n",
            " [ 2.88099073e+01 -8.54429079e+00]\n",
            " [-2.82622112e+01 -4.10343031e+00]\n",
            " [-2.04956831e+01  2.84023607e+01]\n",
            " [-2.85181623e+01 -7.08726542e+00]\n",
            " [-1.63807071e+01 -2.31164610e+01]\n",
            " [ 5.71424419e+01 -1.16900530e+01]\n",
            " [ 5.37503656e+00  2.03859702e+01]\n",
            " [-1.66667020e+01 -1.60533284e+01]\n",
            " [-2.37604101e+01  1.86285124e+01]\n",
            " [-1.36572443e+01 -2.65575590e-01]\n",
            " [ 2.33624551e+01 -1.40980005e+01]\n",
            " [-2.87849445e+01 -4.05848743e+00]\n",
            " [ 4.48266028e+01  1.43114865e+01]\n",
            " [-2.84166764e+01 -6.09684938e+00]\n",
            " [-2.77624852e+01  2.88112080e+00]\n",
            " [ 1.28834471e+02 -1.02324581e+01]\n",
            " [-1.39847126e+01  8.83539274e+00]\n",
            " [ 2.30760326e+01 -1.00613488e+01]\n",
            " [ 1.04200901e+01 -1.40836465e+01]\n",
            " [-6.88790787e+00  1.33209265e+01]\n",
            " [-2.24918751e+01 -8.53932905e+00]\n",
            " [-2.56112848e+01 -5.30361301e+00]\n",
            " [ 1.76877274e+02  6.08108875e+00]\n",
            " [-2.78294905e+01  2.15425834e+00]\n",
            " [-2.38939955e+01 -2.55229278e+01]\n",
            " [-2.78003792e+01  2.15200121e+00]\n",
            " [ 5.47393537e+01  2.52487807e+00]\n",
            " [-2.79516441e+01 -1.19404753e-01]\n",
            " [-2.75035984e+01  2.12726313e+00]\n",
            " [ 7.37345258e+01  3.06731878e+00]\n",
            " [-2.76657421e+01  1.03894398e+01]\n",
            " [-2.75035984e+01  2.12726313e+00]\n",
            " [-1.32305517e+01  1.00248998e+00]]\n",
            "0.5634920634920635\n"
          ]
        }
      ]
    },
    {
      "cell_type": "markdown",
      "source": [
        "# **VISUALIZATION**"
      ],
      "metadata": {
        "id": "ewGQM4Ml76vM"
      }
    },
    {
      "cell_type": "code",
      "source": [
        "import pandas as pd              #pd is an Alias\n",
        "from matplotlib import pyplot as plt\n",
        "import seaborn as sns\n",
        "\n",
        "\n",
        "df=pd.read_csv(\"tested.csv\")\n",
        "\n",
        "#Preparing X and Y\n",
        "\n",
        "X = df.drop('PassengerId', axis=1)\n",
        "X = X.drop('Embarked', axis=1)\n",
        "Y = df['Embarked']"
      ],
      "metadata": {
        "id": "LgvWL5Nssjie"
      },
      "execution_count": 1,
      "outputs": []
    },
    {
      "cell_type": "code",
      "source": [
        "#Scatter Plot to find correlations between two continuous variables\n",
        "plt.scatter(df[\"Age\"], df[\"Fare\"])\n",
        "plt.title(\"Scatter Plot\")\n",
        "plt.xlabel(\"Age\")\n",
        "plt.ylabel(\"Fare\")\n",
        "plt.show()"
      ],
      "metadata": {
        "colab": {
          "base_uri": "https://localhost:8080/",
          "height": 472
        },
        "id": "wDT6LCtc-gEu",
        "outputId": "bc96a5ee-ae37-4564-ccb2-3d204efb7b30"
      },
      "execution_count": 2,
      "outputs": [
        {
          "output_type": "display_data",
          "data": {
            "text/plain": [
              "<Figure size 640x480 with 1 Axes>"
            ],
            "image/png": "[encoded data removed]"
          },
          "metadata": {}
        }
      ]
    },
    {
      "cell_type": "code",
      "source": [
        "#Histrogram shows the distribution of a continuous variable.  It can discover the frequency distribution for a single variable in a univariate analysis.\n",
        "plt.hist(df[\"Age\"])\n",
        "plt.title(\"Histogram Plot\")\n",
        "plt.xlabel(\"Age\")\n",
        "plt.ylabel(\"Frequency\")\n",
        "plt.show()"
      ],
      "metadata": {
        "colab": {
          "base_uri": "https://localhost:8080/",
          "height": 472
        },
        "id": "dEQG_COi_UeZ",
        "outputId": "8d728bac-3d28-424d-bc69-99e6d04aaeb5"
      },
      "execution_count": 4,
      "outputs": [
        {
          "output_type": "display_data",
          "data": {
            "text/plain": [
              "<Figure size 640x480 with 1 Axes>"
            ],
            "image/png": "[encoded data removed]"
          },
          "metadata": {}
        }
      ]
    },
    {
      "cell_type": "code",
      "source": [
        "# Create a bar plot to show the average age of passengers grouped by survival status\n",
        "sns.barplot(x=df[\"Survived\"], y=df[\"Age\"])\n",
        "plt.title(\"Average Age by Survival Status\")\n",
        "plt.xlabel(\"Survived\")\n",
        "plt.ylabel(\"Average Age\")\n",
        "plt.show()\n"
      ],
      "metadata": {
        "colab": {
          "base_uri": "https://localhost:8080/",
          "height": 472
        },
        "id": "Fr-6Sj2S_zkJ",
        "outputId": "ea0f03b6-2d55-469c-9a8f-4380c02899f7"
      },
      "execution_count": 5,
      "outputs": [
        {
          "output_type": "display_data",
          "data": {
            "text/plain": [
              "<Figure size 640x480 with 1 Axes>"
            ],
            "image/png": "[encoded data removed]"
          },
          "metadata": {}
        }
      ]
    },
    {
      "cell_type": "code",
      "source": [
        "import pandas as pd\n",
        "import matplotlib.pyplot as plt\n",
        "\n",
        "# Load the Titanic dataset (assuming it's in CSV format)\n",
        "df = pd.read_csv('tested.csv')\n",
        "\n",
        "# Count the number of passengers who survived and who did not\n",
        "survived_counts = df['Survived'].value_counts()\n",
        "\n",
        "# Define labels and sizes for the pie chart\n",
        "mylabels = ['Not Survived', 'Survived']\n",
        "sizes = survived_counts\n",
        "\n",
        "# Create a pie chart\n",
        "plt.pie(sizes, labels=mylabels, explode=(0.1, 0), autopct='%1.1f%%')\n",
        "plt.axis('equal')  # Equal aspect ratio ensures that pie is drawn as a circle\n",
        "plt.title('Proportion of Passengers Who Survived vs. Did Not Survive')\n",
        "plt.show()\n"
      ],
      "metadata": {
        "colab": {
          "base_uri": "https://localhost:8080/",
          "height": 428
        },
        "id": "cBVGFeEzAOFg",
        "outputId": "b874268d-a484-44f2-f152-ca656d275845"
      },
      "execution_count": 7,
      "outputs": [
        {
          "output_type": "display_data",
          "data": {
            "text/plain": [
              "<Figure size 640x480 with 1 Axes>"
            ],
            "image/png": "[encoded data removed]"
          },
          "metadata": {}
        }
      ]
    },
    {
      "cell_type": "code",
      "source": [
        "#Count Plot s similar to a bar plot except that we only pass the X-axis and Y-axis represents explicitly counting the number of occurrences. Each bar represents count for each category of species.\n",
        "sns.countplot(x='Survived', data = df)\n",
        "plt.title(\"Count Plot for Survived\")\n",
        "plt.show()"
      ],
      "metadata": {
        "colab": {
          "base_uri": "https://localhost:8080/",
          "height": 472
        },
        "id": "bOj2JqX2AeN8",
        "outputId": "8f085397-a264-4dc3-8c46-4497680a428f"
      },
      "execution_count": 8,
      "outputs": [
        {
          "output_type": "display_data",
          "data": {
            "text/plain": [
              "<Figure size 640x480 with 1 Axes>"
            ],
            "image/png": "[encoded data removed]"
          },
          "metadata": {}
        }
      ]
    },
    {
      "cell_type": "code",
      "source": [
        "#Box Plot Boxplot is used to show the distribution of a variable. The box plot is a standardized way of displaying the distribution of data based on the five-number summary: minimum, first quartile, median, third quartile, and maximum.\n",
        "sns.boxplot(x='Age', data = df) #if x horizontal and if y vertical\n",
        "plt.title(\"Box plot showing the distribution of Sepal Length\")\n",
        "plt.show()"
      ],
      "metadata": {
        "colab": {
          "base_uri": "https://localhost:8080/",
          "height": 472
        },
        "id": "67Qx5L32BQpw",
        "outputId": "3f277941-0137-4fd4-af7b-db99995fb8a4"
      },
      "execution_count": 12,
      "outputs": [
        {
          "output_type": "display_data",
          "data": {
            "text/plain": [
              "<Figure size 640x480 with 1 Axes>"
            ],
            "image/png": "[encoded data removed]"
          },
          "metadata": {}
        }
      ]
    },
    {
      "source": [
        "import pandas as pd\n",
        "import matplotlib.pyplot as plt\n",
        "import seaborn as sns # Import seaborn\n",
        "\n",
        "# Load the Titanic dataset (assuming it's in CSV format)\n",
        "df = pd.read_csv('tested.csv')\n",
        "\n",
        "# Select only numerical columns for correlation calculation\n",
        "numerical_df = df.select_dtypes(include=['number']) # Select numerical columns\n",
        "\n",
        "#Heatmap is a type of Matrix plot that allows you to plot data as color-encoded matrices. It is mostly used to find multi-collinearity in a dataset.\n",
        "#df.corr()\n",
        "sns.heatmap(numerical_df.corr()) # Calculate correlation on numerical data\n",
        "plt.show()"
      ],
      "cell_type": "code",
      "metadata": {
        "colab": {
          "base_uri": "https://localhost:8080/",
          "height": 505
        },
        "id": "Hrj-1Za2BJp0",
        "outputId": "69df1f27-1553-4fa9-b43d-f9e029148d5c"
      },
      "execution_count": 10,
      "outputs": [
        {
          "output_type": "display_data",
          "data": {
            "text/plain": [
              "<Figure size 640x480 with 2 Axes>"
            ],
            "image/png": "[encoded data removed]"
          },
          "metadata": {}
        }
      ]
    },
    {
      "cell_type": "code",
      "source": [],
      "metadata": {
        "id": "6plHWl9QBDnv"
      },
      "execution_count": null,
      "outputs": []
    }
  ]
}