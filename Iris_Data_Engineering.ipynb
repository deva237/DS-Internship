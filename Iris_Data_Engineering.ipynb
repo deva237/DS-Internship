{
  "nbformat": 4,
  "nbformat_minor": 0,
  "metadata": {
    "colab": {
      "provenance": [],
      "authorship_tag": "ABX9TyPrXMwJCZYvC2HAO+hKuL/G",
      "include_colab_link": true
    },
    "kernelspec": {
      "name": "python3",
      "display_name": "Python 3"
    },
    "language_info": {
      "name": "python"
    }
  },
  "cells": [
    {
      "cell_type": "markdown",
      "metadata": {
        "id": "view-in-github",
        "colab_type": "text"
      },
      "source": [
        "<a href=\"https://colab.research.google.com/github/deva237/DS-Internship/blob/main/Iris_Data_Engineering.ipynb\" target=\"_parent\"><img src=\"https://colab.research.google.com/assets/colab-badge.svg\" alt=\"Open In Colab\"/></a>"
      ]
    },
    {
      "cell_type": "code",
      "execution_count": null,
      "metadata": {
        "colab": {
          "base_uri": "https://localhost:8080/"
        },
        "id": "IvHBzunQyWHR",
        "outputId": "e22af928-6122-4bee-95e9-b2182e2e2b82"
      },
      "outputs": [
        {
          "output_type": "stream",
          "name": "stdout",
          "text": [
            "     SepalLengthCm  SepalWidthCm  PetalLengthCm  PetalWidthCm\n",
            "118            7.7           2.6            6.9           2.3\n",
            "18             5.7           3.8            1.7           0.3\n",
            "4              5.0           3.6            1.4           0.2\n",
            "45             4.8           3.0            1.4           0.3\n",
            "59             5.2           2.7            3.9           1.4\n",
            "..             ...           ...            ...           ...\n",
            "133            6.3           2.8            5.1           1.5\n",
            "137            6.4           3.1            5.5           1.8\n",
            "72             6.3           2.5            4.9           1.5\n",
            "140            6.7           3.1            5.6           2.4\n",
            "37             4.9           3.1            1.5           0.1\n",
            "\n",
            "[105 rows x 4 columns]\n",
            "0.9777777777777777\n",
            "                 precision    recall  f1-score   support\n",
            "\n",
            "    Iris-setosa       1.00      1.00      1.00        14\n",
            "Iris-versicolor       1.00      0.94      0.97        18\n",
            " Iris-virginica       0.93      1.00      0.96        13\n",
            "\n",
            "       accuracy                           0.98        45\n",
            "      macro avg       0.98      0.98      0.98        45\n",
            "   weighted avg       0.98      0.98      0.98        45\n",
            "\n",
            "[[14  0  0]\n",
            " [ 0 17  1]\n",
            " [ 0  0 13]]\n"
          ]
        },
        {
          "output_type": "stream",
          "name": "stderr",
          "text": [
            "/usr/local/lib/python3.10/dist-packages/sklearn/linear_model/_logistic.py:458: ConvergenceWarning: lbfgs failed to converge (status=1):\n",
            "STOP: TOTAL NO. of ITERATIONS REACHED LIMIT.\n",
            "\n",
            "Increase the number of iterations (max_iter) or scale the data as shown in:\n",
            "    https://scikit-learn.org/stable/modules/preprocessing.html\n",
            "Please also refer to the documentation for alternative solver options:\n",
            "    https://scikit-learn.org/stable/modules/linear_model.html#logistic-regression\n",
            "  n_iter_i = _check_optimize_result(\n"
          ]
        }
      ],
      "source": [
        "#logistic Regression\n",
        "import pandas as pd\n",
        "from sklearn.linear_model import LogisticRegression\n",
        "from sklearn.model_selection import train_test_split\n",
        "from sklearn.metrics import accuracy_score\n",
        "from sklearn.metrics import classification_report\n",
        "from sklearn.metrics import confusion_matrix\n",
        "\n",
        "\n",
        "logr=LogisticRegression()\n",
        "\n",
        "df=pd.read_csv(\"Iris.csv\")\n",
        "\n",
        "x = df.drop('Id', axis=1)\n",
        "x = x.drop('Species', axis=1)\n",
        "y = df['Species']\n",
        "\n",
        "X_train, X_test, y_train, y_test = train_test_split(x,y,random_state=1,test_size=0.3)\n",
        "\n",
        "print(X_train)\n",
        "#print(X_test)\n",
        "#print(y_train)\n",
        "#print(y_test)\n",
        "\n",
        "logr.fit(X_train,y_train)\n",
        "\n",
        "y_pred=logr.predict(X_test)\n",
        "\n",
        "#print(train.coef_)\n",
        "#print(train.intercept_)\n",
        "\n",
        "print(accuracy_score(y_test,y_pred))\n",
        "print(classification_report(y_test,y_pred))\n",
        "print(confusion_matrix(y_test,y_pred))\n"
      ]
    },
    {
      "cell_type": "code",
      "source": [
        "#2. Naive Bayes Classifier\n",
        "\n",
        "from sklearn.naive_bayes import GaussianNB\n",
        "\n",
        "from sklearn.model_selection import train_test_split\n",
        "from sklearn.metrics import  accuracy_score\n",
        "\n",
        "nb=GaussianNB()\n",
        "\n",
        "X_train, X_test, y_train, y_test = train_test_split(x, y, random_state=0,test_size=0.4)\n",
        "\n",
        "nb.fit(X_train,y_train)\n",
        "\n",
        "y_pred1=nb.predict(X_test)\n",
        "\n",
        "print(\"Naive Bayes: \",accuracy_score(y_test,y_pred1))"
      ],
      "metadata": {
        "colab": {
          "base_uri": "https://localhost:8080/"
        },
        "id": "Ls-EDYAGIiRC",
        "outputId": "f1fc2854-04da-460e-fdd4-5c362ac5b163"
      },
      "execution_count": null,
      "outputs": [
        {
          "output_type": "stream",
          "name": "stdout",
          "text": [
            "Naive Bayes:  0.9333333333333333\n"
          ]
        }
      ]
    },
    {
      "cell_type": "code",
      "source": [
        "# 3. KNN\n",
        "\n",
        "from sklearn.model_selection import train_test_split\n",
        "from sklearn.neighbors import KNeighborsClassifier\n",
        "from sklearn.metrics import accuracy_score\n",
        "\n",
        "knn=KNeighborsClassifier(n_neighbors=5)\n",
        "\n",
        "X_train,X_test,y_train,y_test=train_test_split(x,y,random_state=0)\n",
        "\n",
        "train=knn.fit(X_train,y_train)\n",
        "\n",
        "y_pred=knn.predict(X_test)\n",
        "\n",
        "print(accuracy_score(y_test,y_pred))"
      ],
      "metadata": {
        "colab": {
          "base_uri": "https://localhost:8080/"
        },
        "id": "iyeaSgBCI9RU",
        "outputId": "ee2a508e-3ed2-4cc8-f814-e2db590a10cb"
      },
      "execution_count": null,
      "outputs": [
        {
          "output_type": "stream",
          "name": "stdout",
          "text": [
            "0.9736842105263158\n"
          ]
        }
      ]
    },
    {
      "cell_type": "code",
      "source": [
        "#4. Decision Tree\n",
        "\n",
        "from sklearn import tree\n",
        "from sklearn.metrics import accuracy_score\n",
        "from sklearn.model_selection import train_test_split\n",
        "\n",
        "dt=tree.DecisionTreeClassifier()\n",
        "\n",
        "X_train,X_test,y_train,y_test=train_test_split(x,y,random_state=0,test_size=0.3)\n",
        "\n",
        "train=dt.fit(X_train,y_train)\n",
        "\n",
        "y_pred=dt.predict(X_test)\n",
        "\n",
        "print(accuracy_score(y_test,y_pred))"
      ],
      "metadata": {
        "colab": {
          "base_uri": "https://localhost:8080/"
        },
        "id": "HR-Qi96pJioN",
        "outputId": "3481665f-7194-4780-b461-c6d844353597"
      },
      "execution_count": null,
      "outputs": [
        {
          "output_type": "stream",
          "name": "stdout",
          "text": [
            "0.9777777777777777\n"
          ]
        }
      ]
    },
    {
      "cell_type": "code",
      "source": [
        "# 5. Random Forest\n",
        "\n",
        "from sklearn.model_selection import train_test_split\n",
        "from sklearn.metrics import accuracy_score\n",
        "from sklearn.ensemble import RandomForestClassifier\n",
        "\n",
        "rf=RandomForestClassifier()\n",
        "\n",
        "X_train,X_test,y_train,y_test=train_test_split(x,y,random_state=0,test_size=0.3)\n",
        "\n",
        "train=rf.fit(X_train,y_train)\n",
        "\n",
        "y_pred=rf.predict(X_test)\n",
        "\n",
        "print(accuracy_score(y_test,y_pred))"
      ],
      "metadata": {
        "colab": {
          "base_uri": "https://localhost:8080/"
        },
        "id": "omKz1M5xJo6d",
        "outputId": "f3fa180a-c3b1-4055-9f23-57f8b6570cec"
      },
      "execution_count": null,
      "outputs": [
        {
          "output_type": "stream",
          "name": "stdout",
          "text": [
            "0.9777777777777777\n"
          ]
        }
      ]
    },
    {
      "cell_type": "code",
      "source": [
        "# 6. Gradient Boosting\n",
        "\n",
        "from sklearn.ensemble import GradientBoostingClassifier\n",
        "\n",
        "gbm=GradientBoostingClassifier(n_estimators=10)\n",
        "\n",
        "X_train,X_test,Y_train,Y_test=train_test_split(x,y,random_state=0,test_size=0.2)\n",
        "\n",
        "gbm.fit(X_train,Y_train)\n",
        "\n",
        "y_pred=gbm.predict(X_test)\n",
        "\n",
        "print(\"GBM: \",accuracy_score(Y_test,y_pred))"
      ],
      "metadata": {
        "colab": {
          "base_uri": "https://localhost:8080/"
        },
        "id": "6WKGJBZgJsrd",
        "outputId": "833816fa-e428-48f0-a53a-34524ae9ca8a"
      },
      "execution_count": null,
      "outputs": [
        {
          "output_type": "stream",
          "name": "stdout",
          "text": [
            "GBM:  1.0\n"
          ]
        }
      ]
    },
    {
      "cell_type": "markdown",
      "source": [
        "## **DATA** **ENGINEERING**"
      ],
      "metadata": {
        "id": "PspPbvE0Om9N"
      }
    },
    {
      "cell_type": "code",
      "source": [
        "import pandas as pd\n",
        "df = pd.read_csv(\"Iris.csv\")\n",
        "X = df.drop('Id', axis=1)\n",
        "X = X.drop('Species', axis=1)\n",
        "Y = df['Species']\n",
        "print(X)\n",
        "print(Y)"
      ],
      "metadata": {
        "colab": {
          "base_uri": "https://localhost:8080/"
        },
        "id": "btBhzPlYKLQh",
        "outputId": "3b8bb807-b20d-4aee-f870-d378c5ca5f6e"
      },
      "execution_count": null,
      "outputs": [
        {
          "output_type": "stream",
          "name": "stdout",
          "text": [
            "     SepalLengthCm  SepalWidthCm  PetalLengthCm  PetalWidthCm\n",
            "0              5.1           3.5            1.4           0.2\n",
            "1              4.9           3.0            1.4           0.2\n",
            "2              4.7           3.2            1.3           0.2\n",
            "3              4.6           3.1            1.5           0.2\n",
            "4              5.0           3.6            1.4           0.2\n",
            "..             ...           ...            ...           ...\n",
            "145            6.7           3.0            5.2           2.3\n",
            "146            6.3           2.5            5.0           1.9\n",
            "147            6.5           3.0            5.2           2.0\n",
            "148            6.2           3.4            5.4           2.3\n",
            "149            5.9           3.0            5.1           1.8\n",
            "\n",
            "[150 rows x 4 columns]\n",
            "0         Iris-setosa\n",
            "1         Iris-setosa\n",
            "2         Iris-setosa\n",
            "3         Iris-setosa\n",
            "4         Iris-setosa\n",
            "            ...      \n",
            "145    Iris-virginica\n",
            "146    Iris-virginica\n",
            "147    Iris-virginica\n",
            "148    Iris-virginica\n",
            "149    Iris-virginica\n",
            "Name: Species, Length: 150, dtype: object\n"
          ]
        }
      ]
    },
    {
      "cell_type": "code",
      "source": [
        "from sklearn.feature_selection import SelectKBest\n",
        "from sklearn.feature_selection import chi2\n",
        "\n",
        "bestfeatures = SelectKBest(score_func=chi2, k='all')\n",
        "fit = bestfeatures.fit(X,Y)\n",
        "dfscores = pd.DataFrame(fit.scores_)\n",
        "dfcolumns = pd.DataFrame(X.columns)\n",
        "featuresScores = pd.concat([dfcolumns, dfscores], axis=1)\n",
        "featuresScores.columns = ['Specs', 'Score']\n",
        "\n",
        "print(featuresScores)"
      ],
      "metadata": {
        "colab": {
          "base_uri": "https://localhost:8080/"
        },
        "id": "zKIJpRHcO05D",
        "outputId": "de9c24c2-ae37-435b-b400-ad9090be91cc"
      },
      "execution_count": null,
      "outputs": [
        {
          "output_type": "stream",
          "name": "stdout",
          "text": [
            "           Specs       Score\n",
            "0  SepalLengthCm   10.817821\n",
            "1   SepalWidthCm    3.594499\n",
            "2  PetalLengthCm  116.169847\n",
            "3   PetalWidthCm   67.244828\n"
          ]
        }
      ]
    },
    {
      "cell_type": "code",
      "source": [
        "#Feature Selection 2\n",
        "\n",
        "from sklearn.ensemble import ExtraTreesClassifier\n",
        "import matplotlib.pyplot as plt\n",
        "\n",
        "model = ExtraTreesClassifier()\n",
        "model.fit(X,Y)\n",
        "print(model.feature_importances_)\n",
        "\n",
        "feat_importance = pd.Series(model.feature_importances_, index=X.columns)\n",
        "feat_importance.nlargest(4).plot(kind='barh')\n",
        "plt.show()"
      ],
      "metadata": {
        "colab": {
          "base_uri": "https://localhost:8080/",
          "height": 443
        },
        "id": "W5sSLJd4PVs_",
        "outputId": "42dd04d5-30b5-48d6-b03b-6f1306df391e"
      },
      "execution_count": null,
      "outputs": [
        {
          "output_type": "stream",
          "name": "stdout",
          "text": [
            "[0.08493011 0.05803068 0.44951545 0.40752376]\n"
          ]
        },
        {
          "output_type": "display_data",
          "data": {
            "text/plain": [
              "<Figure size 640x480 with 1 Axes>"
            ],
            "image/png": "[encoded data removed]"
          },
          "metadata": {}
        }
      ]
    },
    {
      "source": [
        "#Numerical to Categorical\n",
        "import pandas as pd\n",
        "\n",
        "from sklearn.preprocessing import LabelEncoder\n",
        "\n",
        "# Load the Iris dataset (replace 'Iris.csv' with the actual file path if needed)\n",
        "df = pd.read_csv(\"Iris.csv\")  # Define the DataFrame 'df'\n",
        "\n",
        "df['SepalLengthCm']=pd.cut(df['SepalLengthCm'],3,labels=['0','1','2'])\n",
        "df['SepalWidthCm']=pd.cut(df['SepalWidthCm'],3,labels=['0','1','2'])\n",
        "df['PetalLengthCm']=pd.cut(df['PetalLengthCm'],3,labels=['0','1','2'])\n",
        "df['PetalWidthCm']=pd.cut(df['PetalWidthCm'],3,labels=['0','1','2'])\n",
        "\n",
        "print(df)\n",
        "# '''\n",
        "\n",
        "\n",
        "# '''\n",
        "X = df.drop('Id', axis=1)\n",
        "X = X.drop('Species', axis=1)\n",
        "Y = df['Species']\n",
        "print(Y)\n",
        "le=LabelEncoder()\n",
        "le.fit(Y)\n",
        "Y = le.transform(Y)\n",
        "print(Y)"
      ],
      "cell_type": "code",
      "metadata": {
        "colab": {
          "base_uri": "https://localhost:8080/"
        },
        "id": "LhyWA-GxTUzj",
        "outputId": "f1f711ad-4df2-46d9-cbbd-f8c266df0111"
      },
      "execution_count": null,
      "outputs": [
        {
          "output_type": "stream",
          "name": "stdout",
          "text": [
            "      Id SepalLengthCm SepalWidthCm PetalLengthCm PetalWidthCm         Species\n",
            "0      1             0            1             0            0     Iris-setosa\n",
            "1      2             0            1             0            0     Iris-setosa\n",
            "2      3             0            1             0            0     Iris-setosa\n",
            "3      4             0            1             0            0     Iris-setosa\n",
            "4      5             0            1             0            0     Iris-setosa\n",
            "..   ...           ...          ...           ...          ...             ...\n",
            "145  146             1            1             2            2  Iris-virginica\n",
            "146  147             1            0             2            2  Iris-virginica\n",
            "147  148             1            1             2            2  Iris-virginica\n",
            "148  149             1            1             2            2  Iris-virginica\n",
            "149  150             1            1             2            2  Iris-virginica\n",
            "\n",
            "[150 rows x 6 columns]\n",
            "0         Iris-setosa\n",
            "1         Iris-setosa\n",
            "2         Iris-setosa\n",
            "3         Iris-setosa\n",
            "4         Iris-setosa\n",
            "            ...      \n",
            "145    Iris-virginica\n",
            "146    Iris-virginica\n",
            "147    Iris-virginica\n",
            "148    Iris-virginica\n",
            "149    Iris-virginica\n",
            "Name: Species, Length: 150, dtype: object\n",
            "[0 0 0 0 0 0 0 0 0 0 0 0 0 0 0 0 0 0 0 0 0 0 0 0 0 0 0 0 0 0 0 0 0 0 0 0 0\n",
            " 0 0 0 0 0 0 0 0 0 0 0 0 0 1 1 1 1 1 1 1 1 1 1 1 1 1 1 1 1 1 1 1 1 1 1 1 1\n",
            " 1 1 1 1 1 1 1 1 1 1 1 1 1 1 1 1 1 1 1 1 1 1 1 1 1 1 2 2 2 2 2 2 2 2 2 2 2\n",
            " 2 2 2 2 2 2 2 2 2 2 2 2 2 2 2 2 2 2 2 2 2 2 2 2 2 2 2 2 2 2 2 2 2 2 2 2 2\n",
            " 2 2]\n"
          ]
        }
      ]
    },
    {
      "cell_type": "code",
      "source": [
        "\n",
        "print(df.isnull().sum())\n",
        "df['Item_Weight'].fillna((df['Item_Weight'].mean()/.median()/.mode()), inplace=True) #Imputing Neurimical Values\n",
        "\n",
        "df['Outlet_Size'].fillna(('Medium'), inplace=True)  #Imputing Categorical Values"
      ],
      "metadata": {
        "colab": {
          "base_uri": "https://localhost:8080/",
          "height": 124
        },
        "id": "pY21apeJPzzi",
        "outputId": "4f76f101-80db-42b1-a738-12d4ac904ac7"
      },
      "execution_count": null,
      "outputs": [
        {
          "output_type": "error",
          "ename": "SyntaxError",
          "evalue": "invalid syntax (<ipython-input-5-1de3fc21d141>, line 2)",
          "traceback": [
            "\u001b[0;36m  File \u001b[0;32m\"<ipython-input-5-1de3fc21d141>\"\u001b[0;36m, line \u001b[0;32m2\u001b[0m\n\u001b[0;31m    df['Item_Weight'].fillna((df['Item_Weight'].mean()/.median()/.mode()), inplace=True) #Imputing Neurimical Values\u001b[0m\n\u001b[0m                                                       ^\u001b[0m\n\u001b[0;31mSyntaxError\u001b[0m\u001b[0;31m:\u001b[0m invalid syntax\n"
          ]
        }
      ]
    },
    {
      "source": [
        "#Dealing with missing values\n",
        "\n",
        "# 1. Use Drop (df.drop())\n",
        "# 2. use Replace (df.replace(\"back\",\"DOS\"))\n",
        "# 3. Fill NA ()\n",
        "\n",
        "print(df.isnull().sum())\n",
        "\n",
        "# Assuming 'SepalLengthCm' is the column you want to impute\n",
        "df['SepalLengthCm'].fillna((df['SepalLengthCm'].mean()), inplace=True) #Imputing Numerical Values\n",
        "df['SepalLengthCm'].fillna((df['SepalLengthCm'].median()), inplace=True)\n",
        "df['SepalLengthCm'].fillna((df['SepalLengthCm'].mode()[0]), inplace=True) # Use mode()[0] to get the most frequent value\n",
        "\n",
        "# Assuming 'Species' is the categorical column you want to impute\n",
        "df['Species'].fillna(('Setosa'), inplace=True)  #Imputing Categorical Values"
      ],
      "cell_type": "code",
      "metadata": {
        "colab": {
          "base_uri": "https://localhost:8080/"
        },
        "id": "EoTRTgQqZcHx",
        "outputId": "e16a3714-e2a9-499a-a9b5-c7238e795f45"
      },
      "execution_count": null,
      "outputs": [
        {
          "output_type": "stream",
          "name": "stdout",
          "text": [
            "Id               0\n",
            "SepalLengthCm    0\n",
            "SepalWidthCm     0\n",
            "PetalLengthCm    0\n",
            "PetalWidthCm     0\n",
            "Species          0\n",
            "dtype: int64\n"
          ]
        }
      ]
    },
    {
      "cell_type": "code",
      "source": [
        "#a = (df['Species'] == 'Iris-setosa').sum()\n",
        "#print(a)\n",
        "from collections import Counter\n",
        "print(Counter(Y))\n",
        "from imblearn.over_sampling import RandomOverSampler     #Random OverSampling\n",
        "ros=RandomOverSampler(random_state=0)\n",
        "X, Y = ros.fit_resample(X,Y)\n",
        "print(Counter(Y))"
      ],
      "metadata": {
        "colab": {
          "base_uri": "https://localhost:8080/"
        },
        "id": "OWOgTE6RQ4xs",
        "outputId": "f99174c0-6d56-4824-d029-2dedc8c5ebf2"
      },
      "execution_count": null,
      "outputs": [
        {
          "output_type": "stream",
          "name": "stdout",
          "text": [
            "Counter({'Iris-setosa': 50, 'Iris-versicolor': 50, 'Iris-virginica': 50})\n",
            "Counter({'Iris-setosa': 50, 'Iris-versicolor': 50, 'Iris-virginica': 50})\n"
          ]
        }
      ]
    },
    {
      "cell_type": "code",
      "source": [
        "#Oversampling and Under Sampling\n",
        "\n",
        "#a = (df['Species'] == 'Iris-setosa').sum()\n",
        "#print(a)\n",
        "from collections import Counter\n",
        "print(Counter(Y))\n",
        "from imblearn.over_sampling import RandomOverSampler     #Random OverSampling\n",
        "ros=RandomOverSampler(random_state=0)\n",
        "X, Y = ros.fit_resample(X,Y)\n",
        "print(Counter(Y))\n",
        "\n",
        "\n",
        "from imblearn.over_sampling import SMOTE                 #Synthetic Minority Oversampling (SMOTE) oversampling\n",
        "sms=SMOTE(random_state=0)\n",
        "X, Y=sms.fit_resample(X,Y)\n",
        "\n",
        "from imblearn.under_sampling import RandomUnderSampler   #Random UnderSampling\n",
        "rus=RandomUnderSampler(random_state=0)\n",
        "X, Y=rus.fit_resample(X,Y)\n"
      ],
      "metadata": {
        "id": "Qbj7PFb-Rtui",
        "colab": {
          "base_uri": "https://localhost:8080/"
        },
        "outputId": "c58f6dd9-96dd-40fd-c172-c39e5e1e9a31"
      },
      "execution_count": null,
      "outputs": [
        {
          "output_type": "stream",
          "name": "stdout",
          "text": [
            "Counter({0: 50, 1: 50, 2: 50})\n",
            "Counter({0: 50, 1: 50, 2: 50})\n"
          ]
        }
      ]
    },
    {
      "cell_type": "code",
      "source": [
        "#Identifying Outliers by ploting\n",
        "\n",
        "from matplotlib import pyplot as plt\n",
        "import seaborn as sns\n",
        "sns.boxplot(df['SepalLengthCm'])\n",
        "plt.show()"
      ],
      "metadata": {
        "colab": {
          "base_uri": "https://localhost:8080/",
          "height": 411
        },
        "id": "q1rcHHw6RxiB",
        "outputId": "698a0407-2184-4d84-b2fb-e4d442ba8475"
      },
      "execution_count": null,
      "outputs": [
        {
          "output_type": "display_data",
          "data": {
            "text/plain": [
              "<Figure size 640x480 with 1 Axes>"
            ],
            "image/png": "[encoded data removed]"
          },
          "metadata": {}
        }
      ]
    },
    {
      "source": [
        "#Dealing with Outliers using Interquantile Range\n",
        "# Check the data type of the column and convert if necessary\n",
        "if df['SepalLengthCm'].dtype == object:\n",
        "    df['SepalLengthCm'] = pd.to_numeric(df['SepalLengthCm'], errors='coerce') # Convert to numeric, replace non-numeric with NaN\n",
        "\n",
        "# Fill NaN values if any were introduced during conversion\n",
        "df['SepalLengthCm'].fillna(df['SepalLengthCm'].mean(), inplace=True) # Replace NaN with mean\n",
        "\n",
        "print(df['SepalLengthCm'])\n",
        "Q1 = df['SepalLengthCm'].quantile(0.25)\n",
        "Q3 = df['SepalLengthCm'].quantile(0.75)\n",
        "\n",
        "IQR = Q3 - Q1\n",
        "print(IQR)\n",
        "\n",
        "upper = Q3 + 1.5*IQR\n",
        "lower = Q1 - 1.5*IQR\n",
        "\n",
        "print(upper)\n",
        "print(lower)\n",
        "\n",
        "out1=df[df['SepalLengthCm'] < lower].values\n",
        "out2=df[df['SepalLengthCm'] > upper].values\n",
        "\n",
        "df['SepalLengthCm'].replace(out1,lower,inplace=True)\n",
        "df['SepalLengthCm'].replace(out2,upper,inplace=True)\n",
        "\n",
        "print(df['SepalLengthCm'])"
      ],
      "cell_type": "code",
      "metadata": {
        "colab": {
          "base_uri": "https://localhost:8080/"
        },
        "id": "EcYHwfXYWQcx",
        "outputId": "3e9b7d29-e54e-4c78-a372-5452549fa5e7"
      },
      "execution_count": null,
      "outputs": [
        {
          "output_type": "stream",
          "name": "stdout",
          "text": [
            "0      0.0\n",
            "1      0.0\n",
            "2      0.0\n",
            "3      0.0\n",
            "4      0.0\n",
            "      ... \n",
            "145    1.0\n",
            "146    1.0\n",
            "147    1.0\n",
            "148    1.0\n",
            "149    1.0\n",
            "Name: SepalLengthCm, Length: 150, dtype: float64\n",
            "1.0\n",
            "2.5\n",
            "-1.5\n",
            "0      0.0\n",
            "1      0.0\n",
            "2      0.0\n",
            "3      0.0\n",
            "4      0.0\n",
            "      ... \n",
            "145    1.0\n",
            "146    1.0\n",
            "147    1.0\n",
            "148    1.0\n",
            "149    1.0\n",
            "Name: SepalLengthCm, Length: 150, dtype: float64\n"
          ]
        }
      ]
    },
    {
      "cell_type": "code",
      "source": [
        "#Principal Component Analysis\n",
        "\n",
        "from sklearn.decomposition import PCA\n",
        "from sklearn.linear_model import LogisticRegression\n",
        "from sklearn.model_selection import train_test_split\n",
        "from sklearn.metrics import accuracy_score\n",
        "\n",
        "logr=LogisticRegression()\n",
        "pca=PCA(n_components=2)\n",
        "\n",
        "X = df.drop('Id', axis=1)\n",
        "X = X.drop('Species', axis=1)\n",
        "Y = df['Species']\n",
        "\n",
        "pca.fit(X)\n",
        "X=pca.transform(X)\n",
        "\n",
        "print(X)\n",
        "\n",
        "X_train, X_test, y_train, y_test = train_test_split(X,Y,random_state=0,test_size=0.3)\n",
        "\n",
        "logr.fit(X_train,y_train)\n",
        "\n",
        "y_pred=logr.predict(X_test)\n",
        "print(accuracy_score(y_test,y_pred))"
      ],
      "metadata": {
        "colab": {
          "base_uri": "https://localhost:8080/"
        },
        "id": "I7N5usnCSJWG",
        "outputId": "a9f7967a-77a3-4827-83ce-08f74919d424"
      },
      "execution_count": null,
      "outputs": [
        {
          "output_type": "stream",
          "name": "stdout",
          "text": [
            "[[-1.57432707 -0.09529009]\n",
            " [-1.57432707 -0.09529009]\n",
            " [-1.57432707 -0.09529009]\n",
            " [-1.57432707 -0.09529009]\n",
            " [-1.57432707 -0.09529009]\n",
            " [-1.76935658  0.83331324]\n",
            " [-1.57432707 -0.09529009]\n",
            " [-1.57432707 -0.09529009]\n",
            " [-1.57432707 -0.09529009]\n",
            " [-1.57432707 -0.09529009]\n",
            " [-1.76935658  0.83331324]\n",
            " [-1.57432707 -0.09529009]\n",
            " [-1.57432707 -0.09529009]\n",
            " [-1.57432707 -0.09529009]\n",
            " [-1.31321774  1.20402635]\n",
            " [-1.31321774  1.20402635]\n",
            " [-1.76935658  0.83331324]\n",
            " [-1.57432707 -0.09529009]\n",
            " [-1.31321774  1.20402635]\n",
            " [-1.76935658  0.83331324]\n",
            " [-1.57432707 -0.09529009]\n",
            " [-1.76935658  0.83331324]\n",
            " [-1.57432707 -0.09529009]\n",
            " [-1.57432707 -0.09529009]\n",
            " [-1.57432707 -0.09529009]\n",
            " [-1.57432707 -0.09529009]\n",
            " [-1.57432707 -0.09529009]\n",
            " [-1.57432707 -0.09529009]\n",
            " [-1.57432707 -0.09529009]\n",
            " [-1.57432707 -0.09529009]\n",
            " [-1.57432707 -0.09529009]\n",
            " [-1.57432707 -0.09529009]\n",
            " [-1.76935658  0.83331324]\n",
            " [-1.76935658  0.83331324]\n",
            " [-1.57432707 -0.09529009]\n",
            " [-1.57432707 -0.09529009]\n",
            " [-1.57432707 -0.09529009]\n",
            " [-1.57432707 -0.09529009]\n",
            " [-1.57432707 -0.09529009]\n",
            " [-1.57432707 -0.09529009]\n",
            " [-1.57432707 -0.09529009]\n",
            " [-1.37929755 -1.02389342]\n",
            " [-1.57432707 -0.09529009]\n",
            " [-1.57432707 -0.09529009]\n",
            " [-1.76935658  0.83331324]\n",
            " [-1.57432707 -0.09529009]\n",
            " [-1.76935658  0.83331324]\n",
            " [-1.57432707 -0.09529009]\n",
            " [-1.76935658  0.83331324]\n",
            " [-1.57432707 -0.09529009]\n",
            " [ 0.56587325  0.66572287]\n",
            " [ 0.10973441  0.29500976]\n",
            " [ 0.56587325  0.66572287]\n",
            " [-0.15137492 -1.00430667]\n",
            " [ 0.30476392 -0.63359357]\n",
            " [ 0.30476392 -0.63359357]\n",
            " [ 0.10973441  0.29500976]\n",
            " [-0.15137492 -1.00430667]\n",
            " [ 0.10973441  0.29500976]\n",
            " [-0.15137492 -1.00430667]\n",
            " [-0.15137492 -1.00430667]\n",
            " [ 0.10973441  0.29500976]\n",
            " [ 0.30476392 -0.63359357]\n",
            " [ 0.10973441  0.29500976]\n",
            " [ 0.10973441  0.29500976]\n",
            " [ 0.10973441  0.29500976]\n",
            " [ 0.10973441  0.29500976]\n",
            " [ 0.30476392 -0.63359357]\n",
            " [ 0.30476392 -0.63359357]\n",
            " [ 0.30476392 -0.63359357]\n",
            " [ 0.72230767  0.31096051]\n",
            " [ 0.30476392 -0.63359357]\n",
            " [ 0.30476392 -0.63359357]\n",
            " [ 0.30476392 -0.63359357]\n",
            " [ 0.10973441  0.29500976]\n",
            " [ 0.10973441  0.29500976]\n",
            " [ 0.76090276 -0.26288046]\n",
            " [ 0.72508377  0.29864577]\n",
            " [ 0.10973441  0.29500976]\n",
            " [ 0.30476392 -0.63359357]\n",
            " [-0.15137492 -1.00430667]\n",
            " [-0.15137492 -1.00430667]\n",
            " [ 0.30476392 -0.63359357]\n",
            " [ 0.92011329 -0.62995756]\n",
            " [-0.34640444 -0.07570334]\n",
            " [ 0.10973441  0.29500976]\n",
            " [ 0.10973441  0.29500976]\n",
            " [ 0.30476392 -0.63359357]\n",
            " [ 0.10973441  0.29500976]\n",
            " [-0.15137492 -1.00430667]\n",
            " [-0.15137492 -1.00430667]\n",
            " [ 0.10973441  0.29500976]\n",
            " [ 0.30476392 -0.63359357]\n",
            " [-0.15137492 -1.00430667]\n",
            " [ 0.30476392 -0.63359357]\n",
            " [ 0.10973441  0.29500976]\n",
            " [ 0.10973441  0.29500976]\n",
            " [ 0.10973441  0.29500976]\n",
            " [-0.15137492 -1.00430667]\n",
            " [ 0.30476392 -0.63359357]\n",
            " [ 1.33765703  0.31459652]\n",
            " [ 1.53268655 -0.61400682]\n",
            " [ 1.79379588  0.68530962]\n",
            " [ 1.33765703  0.31459652]\n",
            " [ 1.33765703  0.31459652]\n",
            " [ 1.79379588  0.68530962]\n",
            " [-0.15137492 -1.00430667]\n",
            " [ 1.79379588  0.68530962]\n",
            " [ 1.53268655 -0.61400682]\n",
            " [ 1.79379588  0.68530962]\n",
            " [ 1.33765703  0.31459652]\n",
            " [ 1.53268655 -0.61400682]\n",
            " [ 1.79379588  0.68530962]\n",
            " [ 1.53268655 -0.61400682]\n",
            " [ 1.53268655 -0.61400682]\n",
            " [ 1.33765703  0.31459652]\n",
            " [ 1.33765703  0.31459652]\n",
            " [ 1.59876636  1.61391295]\n",
            " [ 1.98882539 -0.24329371]\n",
            " [ 0.92011329 -0.62995756]\n",
            " [ 1.79379588  0.68530962]\n",
            " [ 0.91733719 -0.61764282]\n",
            " [ 1.98882539 -0.24329371]\n",
            " [ 0.91733719 -0.61764282]\n",
            " [ 1.33765703  0.31459652]\n",
            " [ 1.79379588  0.68530962]\n",
            " [ 0.91733719 -0.61764282]\n",
            " [ 0.72230767  0.31096051]\n",
            " [ 1.53268655 -0.61400682]\n",
            " [ 1.18122261  0.66935887]\n",
            " [ 1.98882539 -0.24329371]\n",
            " [ 1.59876636  1.61391295]\n",
            " [ 1.53268655 -0.61400682]\n",
            " [ 0.92011329 -0.62995756]\n",
            " [ 0.92011329 -0.62995756]\n",
            " [ 1.79379588  0.68530962]\n",
            " [ 1.33765703  0.31459652]\n",
            " [ 1.33765703  0.31459652]\n",
            " [ 0.72230767  0.31096051]\n",
            " [ 1.79379588  0.68530962]\n",
            " [ 1.33765703  0.31459652]\n",
            " [ 1.79379588  0.68530962]\n",
            " [ 1.53268655 -0.61400682]\n",
            " [ 1.79379588  0.68530962]\n",
            " [ 1.33765703  0.31459652]\n",
            " [ 1.33765703  0.31459652]\n",
            " [ 1.53268655 -0.61400682]\n",
            " [ 1.33765703  0.31459652]\n",
            " [ 1.33765703  0.31459652]\n",
            " [ 1.33765703  0.31459652]]\n",
            "0.9333333333333333\n"
          ]
        }
      ]
    }
  ]
}