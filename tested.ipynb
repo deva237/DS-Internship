{
  "nbformat": 4,
  "nbformat_minor": 0,
  "metadata": {
    "colab": {
      "provenance": [],
      "authorship_tag": "ABX9TyPJGACZFeX3mVcvr4EqVm+t",
      "include_colab_link": true
    },
    "kernelspec": {
      "name": "python3",
      "display_name": "Python 3"
    },
    "language_info": {
      "name": "python"
    }
  },
  "cells": [
    {
      "cell_type": "markdown",
      "metadata": {
        "id": "view-in-github",
        "colab_type": "text"
      },
      "source": [
        "<a href=\"https://colab.research.google.com/github/deva237/DS-Internship/blob/main/tested.ipynb\" target=\"_parent\"><img src=\"https://colab.research.google.com/assets/colab-badge.svg\" alt=\"Open In Colab\"/></a>"
      ]
    },
    {
      "cell_type": "code",
      "execution_count": null,
      "metadata": {
        "colab": {
          "base_uri": "https://localhost:8080/"
        },
        "id": "KzgWYP53Evxj",
        "outputId": "23a7d0cd-22bc-4ecd-97ec-eef2b31cc902"
      },
      "outputs": [
        {
          "output_type": "stream",
          "name": "stdout",
          "text": [
            "Accuracy: 0.7619047619047619\n",
            "Classification Report:\n",
            "               precision    recall  f1-score   support\n",
            "\n",
            "           C       1.00      0.35      0.52        23\n",
            "           Q       0.00      0.00      0.00        15\n",
            "           S       0.75      1.00      0.85        88\n",
            "\n",
            "    accuracy                           0.76       126\n",
            "   macro avg       0.58      0.45      0.46       126\n",
            "weighted avg       0.70      0.76      0.69       126\n",
            "\n",
            "Confusion Matrix:\n",
            " [[ 8  0 15]\n",
            " [ 0  0 15]\n",
            " [ 0  0 88]]\n"
          ]
        },
        {
          "output_type": "stream",
          "name": "stderr",
          "text": [
            "/usr/local/lib/python3.10/dist-packages/sklearn/linear_model/_logistic.py:458: ConvergenceWarning: lbfgs failed to converge (status=1):\n",
            "STOP: TOTAL NO. of ITERATIONS REACHED LIMIT.\n",
            "\n",
            "Increase the number of iterations (max_iter) or scale the data as shown in:\n",
            "    https://scikit-learn.org/stable/modules/preprocessing.html\n",
            "Please also refer to the documentation for alternative solver options:\n",
            "    https://scikit-learn.org/stable/modules/linear_model.html#logistic-regression\n",
            "  n_iter_i = _check_optimize_result(\n",
            "/usr/local/lib/python3.10/dist-packages/sklearn/metrics/_classification.py:1344: UndefinedMetricWarning: Precision and F-score are ill-defined and being set to 0.0 in labels with no predicted samples. Use `zero_division` parameter to control this behavior.\n",
            "  _warn_prf(average, modifier, msg_start, len(result))\n",
            "/usr/local/lib/python3.10/dist-packages/sklearn/metrics/_classification.py:1344: UndefinedMetricWarning: Precision and F-score are ill-defined and being set to 0.0 in labels with no predicted samples. Use `zero_division` parameter to control this behavior.\n",
            "  _warn_prf(average, modifier, msg_start, len(result))\n",
            "/usr/local/lib/python3.10/dist-packages/sklearn/metrics/_classification.py:1344: UndefinedMetricWarning: Precision and F-score are ill-defined and being set to 0.0 in labels with no predicted samples. Use `zero_division` parameter to control this behavior.\n",
            "  _warn_prf(average, modifier, msg_start, len(result))\n"
          ]
        }
      ],
      "source": [
        "import pandas as pd\n",
        "from sklearn.linear_model import LogisticRegression\n",
        "from sklearn.model_selection import train_test_split\n",
        "from sklearn.metrics import accuracy_score, classification_report, confusion_matrix\n",
        "from sklearn.impute import SimpleImputer\n",
        "\n",
        "# Initialize the Logistic Regression model\n",
        "logr = LogisticRegression(max_iter=200)\n",
        "\n",
        "# Read the dataset\n",
        "df = pd.read_csv(\"tested.csv\")\n",
        "\n",
        "# Prepare the feature and target variables\n",
        "x = df.drop(['PassengerId', 'Embarked'], axis=1)\n",
        "y = df['Embarked']\n",
        "\n",
        "# One-hot encode categorical variables if necessary\n",
        "x = pd.get_dummies(x)\n",
        "\n",
        "# Handle missing values by imputing with the mean\n",
        "imputer = SimpleImputer(strategy='mean')\n",
        "x = imputer.fit_transform(x)\n",
        "\n",
        "# Split the data into training and testing sets\n",
        "X_train, X_test, y_train, y_test = train_test_split(x, y, random_state=1, test_size=0.3)\n",
        "\n",
        "# Train the logistic regression model\n",
        "logr.fit(X_train, y_train)\n",
        "\n",
        "# Make predictions on the test set\n",
        "y_pred = logr.predict(X_test)\n",
        "\n",
        "# Print evaluation metrics\n",
        "print(\"Accuracy:\", accuracy_score(y_test, y_pred))\n",
        "print(\"Classification Report:\\n\", classification_report(y_test, y_pred))\n",
        "print(\"Confusion Matrix:\\n\", confusion_matrix(y_test, y_pred))\n"
      ]
    },
    {
      "cell_type": "code",
      "source": [
        "#2 naive\n",
        "import pandas as pd\n",
        "from sklearn.naive_bayes import GaussianNB\n",
        "from sklearn.model_selection import train_test_split\n",
        "from sklearn.metrics import accuracy_score\n",
        "from sklearn.impute import SimpleImputer\n",
        "\n",
        "# Read the dataset\n",
        "df = pd.read_csv(\"tested.csv\")\n",
        "\n",
        "# Prepare the feature and target variables\n",
        "x = df.drop(['PassengerId', 'Embarked'], axis=1)\n",
        "y = df['Embarked']\n",
        "\n",
        "# One-hot encode categorical variables if necessary\n",
        "x = pd.get_dummies(x)\n",
        "\n",
        "# Handle missing values by imputing with the mean\n",
        "imputer = SimpleImputer(strategy='mean')\n",
        "x = imputer.fit_transform(x)\n",
        "\n",
        "# Split the data into training and testing sets\n",
        "X_train, X_test, y_train, y_test = train_test_split(x, y, random_state=0, test_size=0.4)\n",
        "\n",
        "# Initialize the Gaussian Naive Bayes classifier\n",
        "nb = GaussianNB()\n",
        "\n",
        "# Train the model\n",
        "nb.fit(X_train, y_train)\n",
        "\n",
        "# Make predictions on the test set\n",
        "y_pred1 = nb.predict(X_test)\n",
        "\n",
        "# Print the accuracy score\n",
        "print(\"Naive Bayes: \", accuracy_score(y_test, y_pred1))\n"
      ],
      "metadata": {
        "id": "DsuXSC3bPryN",
        "outputId": "f118649b-87e0-4ddf-dae4-b8cde57da04d",
        "colab": {
          "base_uri": "https://localhost:8080/"
        }
      },
      "execution_count": null,
      "outputs": [
        {
          "output_type": "stream",
          "name": "stdout",
          "text": [
            "Naive Bayes:  0.3630952380952381\n"
          ]
        }
      ]
    },
    {
      "cell_type": "code",
      "source": [
        "# 3. KNN\n",
        "from pandas import read_csv\n",
        "import pandas as pd\n",
        "from sklearn.model_selection import train_test_split\n",
        "from sklearn.neighbors import KNeighborsClassifier\n",
        "from sklearn.metrics import accuracy_score\n",
        "from sklearn.impute import SimpleImputer\n",
        "\n",
        "# Read the dataset\n",
        "df = pd.read_csv(\"tested.csv\")\n",
        "\n",
        "# Prepare the feature and target variables\n",
        "x = df.drop(['PassengerId', 'Embarked'], axis=1)\n",
        "y = df['Embarked']\n",
        "\n",
        "# One-hot encode categorical variables if necessary\n",
        "x = pd.get_dummies(x)\n",
        "\n",
        "# Handle missing values by imputing with the mean\n",
        "imputer = SimpleImputer(strategy='mean')\n",
        "x = imputer.fit_transform(x)\n",
        "\n",
        "knn=KNeighborsClassifier(n_neighbors=5)\n",
        "\n",
        "X_train,X_test,y_train,y_test=train_test_split(x,y,random_state=0)\n",
        "\n",
        "train=knn.fit(X_train,y_train)\n",
        "\n",
        "y_pred=knn.predict(X_test)\n",
        "\n",
        "print(accuracy_score(y_test,y_pred))"
      ],
      "metadata": {
        "colab": {
          "base_uri": "https://localhost:8080/"
        },
        "id": "iyeaSgBCI9RU",
        "outputId": "6b4f1679-09d2-4121-9f0c-ca4f8247cb88"
      },
      "execution_count": null,
      "outputs": [
        {
          "output_type": "stream",
          "name": "stdout",
          "text": [
            "0.7142857142857143\n"
          ]
        }
      ]
    },
    {
      "cell_type": "code",
      "source": [
        "#4. Decision Tree\n",
        "\n",
        "from sklearn import tree\n",
        "from sklearn.metrics import accuracy_score\n",
        "from sklearn.model_selection import train_test_split\n",
        "\n",
        "dt=tree.DecisionTreeClassifier()\n",
        "\n",
        "X_train,X_test,y_train,y_test=train_test_split(x,y,random_state=0,test_size=0.3)\n",
        "\n",
        "train=dt.fit(X_train,y_train)\n",
        "\n",
        "y_pred=dt.predict(X_test)\n",
        "\n",
        "print(accuracy_score(y_test,y_pred))"
      ],
      "metadata": {
        "colab": {
          "base_uri": "https://localhost:8080/"
        },
        "id": "YAevyQ3DkIZe",
        "outputId": "880b10ce-7482-485f-8316-82b7dcc8c63f"
      },
      "execution_count": null,
      "outputs": [
        {
          "output_type": "stream",
          "name": "stdout",
          "text": [
            "0.746031746031746\n"
          ]
        }
      ]
    },
    {
      "cell_type": "code",
      "source": [
        "# 5. Random Forest\n",
        "\n",
        "from sklearn.model_selection import train_test_split\n",
        "from sklearn.metrics import accuracy_score\n",
        "from sklearn.ensemble import RandomForestClassifier\n",
        "\n",
        "rf=RandomForestClassifier()\n",
        "\n",
        "X_train,X_test,y_train,y_test=train_test_split(x,y,random_state=0,test_size=0.3)\n",
        "\n",
        "train=rf.fit(X_train,y_train)\n",
        "\n",
        "y_pred=rf.predict(X_test)\n",
        "\n",
        "print(accuracy_score(y_test,y_pred))"
      ],
      "metadata": {
        "id": "OITKzy2skOtd",
        "outputId": "1e559eda-ad95-4320-8661-1d7bdb0eef2a",
        "colab": {
          "base_uri": "https://localhost:8080/"
        }
      },
      "execution_count": null,
      "outputs": [
        {
          "output_type": "stream",
          "name": "stdout",
          "text": [
            "0.6349206349206349\n"
          ]
        }
      ]
    },
    {
      "cell_type": "code",
      "source": [
        "# 6. Gradient Boosting\n",
        "import pandas as pd\n",
        "from sklearn.linear_model import LogisticRegression\n",
        "from sklearn.model_selection import train_test_split\n",
        "from sklearn.metrics import accuracy_score\n",
        "from sklearn.impute import SimpleImputer\n",
        "\n",
        "# Initialize the Logistic Regression model\n",
        "logr = LogisticRegression(max_iter=200)\n",
        "\n",
        "# Read the dataset\n",
        "df = pd.read_csv(\"tested.csv\")\n",
        "\n",
        "# Prepare the feature and target variables\n",
        "x = df.drop(['PassengerId', 'Embarked'], axis=1)\n",
        "y = df['Embarked']\n",
        "\n",
        "# One-hot encode categorical variables if necessary\n",
        "x = pd.get_dummies(x)\n",
        "\n",
        "# Handle missing values by imputing with the mean\n",
        "imputer = SimpleImputer(strategy='mean')\n",
        "x = imputer.fit_transform(x)\n",
        "from sklearn.ensemble import GradientBoostingClassifier\n",
        "\n",
        "gbm=GradientBoostingClassifier(n_estimators=10)\n",
        "\n",
        "X_train,X_test,Y_train,Y_test=train_test_split(x,y,random_state=0,test_size=0.2)\n",
        "\n",
        "gbm.fit(X_train,Y_train)\n",
        "\n",
        "y_pred=gbm.predict(X_test)\n",
        "\n",
        "print(\"GBM: \",accuracy_score(Y_test,y_pred))"
      ],
      "metadata": {
        "colab": {
          "base_uri": "https://localhost:8080/"
        },
        "id": "zXNetZj4KjhT",
        "outputId": "6daa46c7-de09-449f-ffaa-9fa445bc919d"
      },
      "execution_count": null,
      "outputs": [
        {
          "output_type": "stream",
          "name": "stdout",
          "text": [
            "GBM:  0.8452380952380952\n"
          ]
        }
      ]
    },
    {
      "cell_type": "markdown",
      "source": [
        "## **DATA** **ENGINEERING**"
      ],
      "metadata": {
        "id": "iMCUAf2XMgLY"
      }
    },
    {
      "cell_type": "code",
      "source": [
        "import pandas as pd\n",
        "df = pd.read_csv(\"tested.csv\")\n",
        "X = df.drop('PassengerId', axis=1)\n",
        "X = X.drop('Embarked', axis=1)\n",
        "Y = df['Embarked']\n",
        "print(X)\n",
        "print(Y)"
      ],
      "metadata": {
        "colab": {
          "base_uri": "https://localhost:8080/"
        },
        "id": "FVw1JEtjMmk_",
        "outputId": "127e6467-164e-4ae8-cc70-a49581b8c968"
      },
      "execution_count": null,
      "outputs": [
        {
          "output_type": "stream",
          "name": "stdout",
          "text": [
            "     Survived  Pclass                                          Name     Sex  \\\n",
            "0           0       3                              Kelly, Mr. James    male   \n",
            "1           1       3              Wilkes, Mrs. James (Ellen Needs)  female   \n",
            "2           0       2                     Myles, Mr. Thomas Francis    male   \n",
            "3           0       3                              Wirz, Mr. Albert    male   \n",
            "4           1       3  Hirvonen, Mrs. Alexander (Helga E Lindqvist)  female   \n",
            "..        ...     ...                                           ...     ...   \n",
            "413         0       3                            Spector, Mr. Woolf    male   \n",
            "414         1       1                  Oliva y Ocana, Dona. Fermina  female   \n",
            "415         0       3                  Saether, Mr. Simon Sivertsen    male   \n",
            "416         0       3                           Ware, Mr. Frederick    male   \n",
            "417         0       3                      Peter, Master. Michael J    male   \n",
            "\n",
            "      Age  SibSp  Parch              Ticket      Fare Cabin  \n",
            "0    34.5      0      0              330911    7.8292   NaN  \n",
            "1    47.0      1      0              363272    7.0000   NaN  \n",
            "2    62.0      0      0              240276    9.6875   NaN  \n",
            "3    27.0      0      0              315154    8.6625   NaN  \n",
            "4    22.0      1      1             3101298   12.2875   NaN  \n",
            "..    ...    ...    ...                 ...       ...   ...  \n",
            "413   NaN      0      0           A.5. 3236    8.0500   NaN  \n",
            "414  39.0      0      0            PC 17758  108.9000  C105  \n",
            "415  38.5      0      0  SOTON/O.Q. 3101262    7.2500   NaN  \n",
            "416   NaN      0      0              359309    8.0500   NaN  \n",
            "417   NaN      1      1                2668   22.3583   NaN  \n",
            "\n",
            "[418 rows x 10 columns]\n",
            "0      Q\n",
            "1      S\n",
            "2      Q\n",
            "3      S\n",
            "4      S\n",
            "      ..\n",
            "413    S\n",
            "414    C\n",
            "415    S\n",
            "416    S\n",
            "417    C\n",
            "Name: Embarked, Length: 418, dtype: object\n"
          ]
        }
      ]
    },
    {
      "source": [
        "from sklearn.feature_selection import SelectKBest\n",
        "from sklearn.feature_selection import chi2\n",
        "import pandas as pd\n",
        "from sklearn.linear_model import LogisticRegression\n",
        "from sklearn.model_selection import train_test_split\n",
        "from sklearn.metrics import accuracy_score\n",
        "from sklearn.impute import SimpleImputer\n",
        "from sklearn.preprocessing import LabelEncoder\n",
        "\n",
        "# Initialize the Logistic Regression model\n",
        "logr = LogisticRegression(max_iter=200)\n",
        "\n",
        "# Read the dataset\n",
        "df = pd.read_csv(\"tested.csv\")\n",
        "\n",
        "# Prepare the feature and target variables\n",
        "x = df.drop(['PassengerId', 'Embarked'], axis=1)\n",
        "y = df['Embarked']\n",
        "\n",
        "# One-hot encode categorical variables if necessary\n",
        "x = pd.get_dummies(x)\n",
        "\n",
        "# Handle missing values by imputing with the mean\n",
        "imputer = SimpleImputer(strategy='mean')\n",
        "x_imputed = imputer.fit_transform(x) # store result of imputation\n",
        "\n",
        "# Convert imputed NumPy array back to a DataFrame and re-assign column names\n",
        "x = pd.DataFrame(x_imputed, columns=x.columns)\n",
        "\n",
        "# Encode the target variable 'Embarked' to numerical values\n",
        "le = LabelEncoder()\n",
        "y = le.fit_transform(y)\n",
        "\n",
        "bestfeatures = SelectKBest(score_func=chi2, k='all')\n",
        "fit = bestfeatures.fit(x, y)  # Note: fitting with x and y (numerical target)\n",
        "dfscores = pd.DataFrame(fit.scores_)\n",
        "dfcolumns = pd.DataFrame(x.columns) # Now that x is a DataFrame again, this should work\n",
        "featuresScores = pd.concat([dfcolumns, dfscores], axis=1)\n",
        "featuresScores.columns = ['Specs', 'Score']\n",
        "\n",
        "print(featuresScores)"
      ],
      "cell_type": "code",
      "metadata": {
        "colab": {
          "base_uri": "https://localhost:8080/"
        },
        "id": "Tdf5Q_JYPpid",
        "outputId": "34cb295d-a133-4eeb-a354-d8f86f04599c"
      },
      "execution_count": null,
      "outputs": [
        {
          "output_type": "stream",
          "name": "stdout",
          "text": [
            "           Specs      Score\n",
            "0       Survived   4.446112\n",
            "1         Pclass  18.087531\n",
            "2            Age  58.308720\n",
            "3          SibSp   8.338599\n",
            "4          Parch  19.210552\n",
            "..           ...        ...\n",
            "860  Cabin_F G63   0.548148\n",
            "861     Cabin_F2   0.548148\n",
            "862    Cabin_F33   0.548148\n",
            "863     Cabin_F4   1.096296\n",
            "864     Cabin_G6   0.548148\n",
            "\n",
            "[865 rows x 2 columns]\n"
          ]
        }
      ]
    },
    {
      "source": [
        "#Feature Selection 2\n",
        "\n",
        "from sklearn.ensemble import ExtraTreesClassifier\n",
        "import matplotlib.pyplot as plt\n",
        "import pandas as pd # Import pandas for DataFrame handling\n",
        "from sklearn.preprocessing import LabelEncoder # Import LabelEncoder for encoding categorical variables\n",
        "\n",
        "model = ExtraTreesClassifier()\n",
        "\n",
        "# Assuming X contains categorical features, encode them using LabelEncoder\n",
        "le = LabelEncoder()\n",
        "X_encoded = X.apply(le.fit_transform) # Apply LabelEncoder to all columns in X\n",
        "\n",
        "model.fit(X_encoded,Y) # Fit the model with encoded features\n",
        "print(model.feature_importances_)\n",
        "\n",
        "feat_importance = pd.Series(model.feature_importances_, index=X_encoded.columns) # Use encoded column names\n",
        "feat_importance.nlargest(4).plot(kind='pie', autopct='%1.1f%%')\n",
        "#plot(kind='box')\n",
        "# plot(kind='area')\n",
        "# plot(kind='line', marker='o')\n",
        "plt.show()"
      ],
      "cell_type": "code",
      "metadata": {
        "colab": {
          "base_uri": "https://localhost:8080/",
          "height": 441
        },
        "id": "NS7hpY2lQNrE",
        "outputId": "8cd3dbef-10f1-4b30-9cd1-e9f4b1485a8e"
      },
      "execution_count": null,
      "outputs": [
        {
          "output_type": "stream",
          "name": "stdout",
          "text": [
            "[0.01765989 0.08693859 0.12148043 0.01864448 0.12400685 0.04490748\n",
            " 0.03754546 0.24259569 0.2359865  0.07023463]\n"
          ]
        },
        {
          "output_type": "display_data",
          "data": {
            "text/plain": [
              "<Figure size 640x480 with 1 Axes>"
            ],
            "image/png": "[encoded data removed]"
          },
          "metadata": {}
        }
      ]
    },
    {
      "cell_type": "code",
      "source": [],
      "metadata": {
        "id": "m2KGBCl5RyuR"
      },
      "execution_count": null,
      "outputs": []
    }
  ]
}