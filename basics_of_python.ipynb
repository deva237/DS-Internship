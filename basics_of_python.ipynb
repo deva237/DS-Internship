{
  "nbformat": 4,
  "nbformat_minor": 0,
  "metadata": {
    "colab": {
      "provenance": [],
      "authorship_tag": "ABX9TyO9dVNVEWeNIpY+nHDadDv4",
      "include_colab_link": true
    },
    "kernelspec": {
      "name": "python3",
      "display_name": "Python 3"
    },
    "language_info": {
      "name": "python"
    }
  },
  "cells": [
    {
      "cell_type": "markdown",
      "metadata": {
        "id": "view-in-github",
        "colab_type": "text"
      },
      "source": [
        "<a href=\"https://colab.research.google.com/github/deva237/DS-Internship/blob/main/basics_of_python.ipynb\" target=\"_parent\"><img src=\"https://colab.research.google.com/assets/colab-badge.svg\" alt=\"Open In Colab\"/></a>"
      ]
    },
    {
      "cell_type": "code",
      "execution_count": null,
      "metadata": {
        "colab": {
          "base_uri": "https://localhost:8080/"
        },
        "id": "sHnI49Tf_rjG",
        "outputId": "cd9c4f62-c917-49d3-fab8-8c21bbc584dd"
      },
      "outputs": [
        {
          "output_type": "stream",
          "name": "stdout",
          "text": [
            "<class 'int'>\n",
            "11\n",
            "92\n"
          ]
        }
      ],
      "source": [
        "x=5\n",
        "m=6\n",
        "y=\"9\"\n",
        "z=\"2\"\n",
        "print(type(x))\n",
        "print(x+m)\n",
        "print(y+z)"
      ]
    },
    {
      "cell_type": "code",
      "source": [
        "#typecasting\n",
        "a=int(z)\n",
        "print(a+m)\n",
        "\"\"\"this is multi-line comment\n",
        "and this\n",
        "also this one\n",
        "\"\"\""
      ],
      "metadata": {
        "colab": {
          "base_uri": "https://localhost:8080/",
          "height": 53
        },
        "id": "Wqf0OvOdBB19",
        "outputId": "98ba1f9c-1000-4d67-9d9f-bfbfa0ac5711"
      },
      "execution_count": null,
      "outputs": [
        {
          "output_type": "stream",
          "name": "stdout",
          "text": [
            "8\n"
          ]
        },
        {
          "output_type": "execute_result",
          "data": {
            "text/plain": [
              "'this is comment\\nand this\\nalso this one\\n'"
            ],
            "application/vnd.google.colaboratory.intrinsic+json": {
              "type": "string"
            }
          },
          "metadata": {},
          "execution_count": 4
        }
      ]
    },
    {
      "cell_type": "code",
      "source": [
        "#list     mutable --> can be changed\n",
        "l1=['h1', 1,7, 'list', 6.7,9.5,[3,59, \"hello\"]]     #list inside the list\n",
        "l2=l1[6][2]\n",
        "print(l2)\n",
        "length=len(l1)\n",
        "print(length)"
      ],
      "metadata": {
        "colab": {
          "base_uri": "https://localhost:8080/"
        },
        "id": "k6OvO6XuCI_J",
        "outputId": "4e53664e-59cb-477f-d816-6d7af7e63432"
      },
      "execution_count": null,
      "outputs": [
        {
          "output_type": "stream",
          "name": "stdout",
          "text": [
            "hello\n",
            "7\n"
          ]
        }
      ]
    },
    {
      "cell_type": "code",
      "source": [
        "#python programs to illustrate a list\n",
        "#create a empty list\n",
        "nums=[]\n",
        "nums.append(21)\n",
        "nums.append(40.5)\n",
        "nums.append('string')\n",
        "\n",
        "print(nums)\n"
      ],
      "metadata": {
        "colab": {
          "base_uri": "https://localhost:8080/"
        },
        "id": "zl8xPiniDLPc",
        "outputId": "e4e33f8f-a8ba-4eae-a072-4065498e54f3"
      },
      "execution_count": null,
      "outputs": [
        {
          "output_type": "stream",
          "name": "stdout",
          "text": [
            "[21, 40.5, 'string']\n"
          ]
        }
      ]
    },
    {
      "cell_type": "code",
      "source": [
        "#tuples\n",
        "t1=(1,2,3,4,5)\n",
        "print(t1)"
      ],
      "metadata": {
        "colab": {
          "base_uri": "https://localhost:8080/"
        },
        "id": "5Z_Jp2KEFfK8",
        "outputId": "1e2594ff-491f-4f27-907e-6ce1474ba2d8"
      },
      "execution_count": null,
      "outputs": [
        {
          "output_type": "stream",
          "name": "stdout",
          "text": [
            "(1, 2, 3, 4, 5)\n"
          ]
        }
      ]
    },
    {
      "cell_type": "code",
      "source": [
        "#dictionnary\n",
        "d1={\"name\":\"xyz\", \"Age\":\"12\", \"proff\":\"Student\"}\n",
        "print(d1)\n",
        "print(type(d1))\n",
        "print(d1.keys())\n",
        "print(d1.items())\n",
        "print(d1.values())\n",
        "print(d1[\"name\"])"
      ],
      "metadata": {
        "colab": {
          "base_uri": "https://localhost:8080/"
        },
        "id": "yVwr7gSKFyxK",
        "outputId": "eb2345f6-22de-4ec3-9d2e-899e6caa0cad"
      },
      "execution_count": null,
      "outputs": [
        {
          "output_type": "stream",
          "name": "stdout",
          "text": [
            "{'name': 'xyz', 'Age': '12', 'proff': 'Student'}\n",
            "<class 'dict'>\n",
            "dict_keys(['name', 'Age', 'proff'])\n",
            "dict_items([('name', 'xyz'), ('Age', '12'), ('proff', 'Student')])\n",
            "dict_values(['xyz', '12', 'Student'])\n",
            "xyz\n"
          ]
        }
      ]
    },
    {
      "cell_type": "code",
      "source": [
        "#accepting input from user\n",
        "num1=int(input(\"enter num1: \"))\n",
        "num2=int(input(\"enter num2: \"))\n",
        "print(num1*num2)\n"
      ],
      "metadata": {
        "colab": {
          "base_uri": "https://localhost:8080/",
          "height": 106
        },
        "id": "uoAlsM6jGos3",
        "outputId": "5d2f7686-dae1-40fc-b824-ab9766b10d7c"
      },
      "execution_count": null,
      "outputs": [
        {
          "output_type": "error",
          "ename": "SyntaxError",
          "evalue": "invalid syntax. Perhaps you forgot a comma? (<ipython-input-16-2d1937648d3e>, line 4)",
          "traceback": [
            "\u001b[0;36m  File \u001b[0;32m\"<ipython-input-16-2d1937648d3e>\"\u001b[0;36m, line \u001b[0;32m4\u001b[0m\n\u001b[0;31m    print(\"product:\" num1*num2)\u001b[0m\n\u001b[0m          ^\u001b[0m\n\u001b[0;31mSyntaxError\u001b[0m\u001b[0;31m:\u001b[0m invalid syntax. Perhaps you forgot a comma?\n"
          ]
        }
      ]
    },
    {
      "cell_type": "code",
      "source": [
        "num1=int(input(\"enter a number\"))\n",
        "if (num1>12):\n",
        "  print(\"num1 is good\")\n",
        "elif (num1>35):\n",
        "  print(\"num1 is not good\")\n",
        "else:\n",
        "  print(\"num1 is great\")"
      ],
      "metadata": {
        "colab": {
          "base_uri": "https://localhost:8080/"
        },
        "id": "v911fm0xHY6K",
        "outputId": "675daf3c-dad0-469f-c168-9ff4bcbd4782"
      },
      "execution_count": null,
      "outputs": [
        {
          "output_type": "stream",
          "name": "stdout",
          "text": [
            "enter a number5\n",
            "num1 is great\n"
          ]
        }
      ]
    },
    {
      "cell_type": "code",
      "source": [],
      "metadata": {
        "id": "AhYeWc3fIgFZ"
      },
      "execution_count": null,
      "outputs": []
    }
  ]
}